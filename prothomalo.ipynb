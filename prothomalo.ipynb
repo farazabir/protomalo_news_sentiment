{
  "nbformat": 4,
  "nbformat_minor": 0,
  "metadata": {
    "colab": {
      "provenance": [],
      "gpuType": "T4",
      "mount_file_id": "1cX_ZhX-gfwOfl67tkr_NpLiF0MUOB4Sf",
      "authorship_tag": "ABX9TyP65OgWix3RUO1jv43s+r3j"
    },
    "kernelspec": {
      "name": "python3",
      "display_name": "Python 3"
    },
    "language_info": {
      "name": "python"
    },
    "accelerator": "GPU",
    "widgets": {
      "application/vnd.jupyter.widget-state+json": {
        "cfec37788d0746d6a8cc19a7b9306ef6": {
          "model_module": "@jupyter-widgets/controls",
          "model_name": "HBoxModel",
          "model_module_version": "1.5.0",
          "state": {
            "_dom_classes": [],
            "_model_module": "@jupyter-widgets/controls",
            "_model_module_version": "1.5.0",
            "_model_name": "HBoxModel",
            "_view_count": null,
            "_view_module": "@jupyter-widgets/controls",
            "_view_module_version": "1.5.0",
            "_view_name": "HBoxView",
            "box_style": "",
            "children": [
              "IPY_MODEL_54f3a58f40fa4423bd713f6419a4705d",
              "IPY_MODEL_e36e1d42171041f1ae754ee9e3615c44",
              "IPY_MODEL_619724bfdf554b4dac8afb099789dc1c"
            ],
            "layout": "IPY_MODEL_6849d5381f4f44ac8567874b5cd75c27"
          }
        },
        "54f3a58f40fa4423bd713f6419a4705d": {
          "model_module": "@jupyter-widgets/controls",
          "model_name": "HTMLModel",
          "model_module_version": "1.5.0",
          "state": {
            "_dom_classes": [],
            "_model_module": "@jupyter-widgets/controls",
            "_model_module_version": "1.5.0",
            "_model_name": "HTMLModel",
            "_view_count": null,
            "_view_module": "@jupyter-widgets/controls",
            "_view_module_version": "1.5.0",
            "_view_name": "HTMLView",
            "description": "",
            "description_tooltip": null,
            "layout": "IPY_MODEL_80997ed6adfa43ac93c8a664c6a62b9a",
            "placeholder": "​",
            "style": "IPY_MODEL_13de0eb86e8e491587de35108fc22d71",
            "value": "tokenizer_config.json: 100%"
          }
        },
        "e36e1d42171041f1ae754ee9e3615c44": {
          "model_module": "@jupyter-widgets/controls",
          "model_name": "FloatProgressModel",
          "model_module_version": "1.5.0",
          "state": {
            "_dom_classes": [],
            "_model_module": "@jupyter-widgets/controls",
            "_model_module_version": "1.5.0",
            "_model_name": "FloatProgressModel",
            "_view_count": null,
            "_view_module": "@jupyter-widgets/controls",
            "_view_module_version": "1.5.0",
            "_view_name": "ProgressView",
            "bar_style": "success",
            "description": "",
            "description_tooltip": null,
            "layout": "IPY_MODEL_29c2ba31a1d243a3a99385a4ae2e12b4",
            "max": 48,
            "min": 0,
            "orientation": "horizontal",
            "style": "IPY_MODEL_f5f78908e30e4f929975a5470831518f",
            "value": 48
          }
        },
        "619724bfdf554b4dac8afb099789dc1c": {
          "model_module": "@jupyter-widgets/controls",
          "model_name": "HTMLModel",
          "model_module_version": "1.5.0",
          "state": {
            "_dom_classes": [],
            "_model_module": "@jupyter-widgets/controls",
            "_model_module_version": "1.5.0",
            "_model_name": "HTMLModel",
            "_view_count": null,
            "_view_module": "@jupyter-widgets/controls",
            "_view_module_version": "1.5.0",
            "_view_name": "HTMLView",
            "description": "",
            "description_tooltip": null,
            "layout": "IPY_MODEL_529dd1ca5c5a44b19e635c45146e76a8",
            "placeholder": "​",
            "style": "IPY_MODEL_7fb76b41762545399419bae59c41c797",
            "value": " 48.0/48.0 [00:00&lt;00:00, 1.07kB/s]"
          }
        },
        "6849d5381f4f44ac8567874b5cd75c27": {
          "model_module": "@jupyter-widgets/base",
          "model_name": "LayoutModel",
          "model_module_version": "1.2.0",
          "state": {
            "_model_module": "@jupyter-widgets/base",
            "_model_module_version": "1.2.0",
            "_model_name": "LayoutModel",
            "_view_count": null,
            "_view_module": "@jupyter-widgets/base",
            "_view_module_version": "1.2.0",
            "_view_name": "LayoutView",
            "align_content": null,
            "align_items": null,
            "align_self": null,
            "border": null,
            "bottom": null,
            "display": null,
            "flex": null,
            "flex_flow": null,
            "grid_area": null,
            "grid_auto_columns": null,
            "grid_auto_flow": null,
            "grid_auto_rows": null,
            "grid_column": null,
            "grid_gap": null,
            "grid_row": null,
            "grid_template_areas": null,
            "grid_template_columns": null,
            "grid_template_rows": null,
            "height": null,
            "justify_content": null,
            "justify_items": null,
            "left": null,
            "margin": null,
            "max_height": null,
            "max_width": null,
            "min_height": null,
            "min_width": null,
            "object_fit": null,
            "object_position": null,
            "order": null,
            "overflow": null,
            "overflow_x": null,
            "overflow_y": null,
            "padding": null,
            "right": null,
            "top": null,
            "visibility": null,
            "width": null
          }
        },
        "80997ed6adfa43ac93c8a664c6a62b9a": {
          "model_module": "@jupyter-widgets/base",
          "model_name": "LayoutModel",
          "model_module_version": "1.2.0",
          "state": {
            "_model_module": "@jupyter-widgets/base",
            "_model_module_version": "1.2.0",
            "_model_name": "LayoutModel",
            "_view_count": null,
            "_view_module": "@jupyter-widgets/base",
            "_view_module_version": "1.2.0",
            "_view_name": "LayoutView",
            "align_content": null,
            "align_items": null,
            "align_self": null,
            "border": null,
            "bottom": null,
            "display": null,
            "flex": null,
            "flex_flow": null,
            "grid_area": null,
            "grid_auto_columns": null,
            "grid_auto_flow": null,
            "grid_auto_rows": null,
            "grid_column": null,
            "grid_gap": null,
            "grid_row": null,
            "grid_template_areas": null,
            "grid_template_columns": null,
            "grid_template_rows": null,
            "height": null,
            "justify_content": null,
            "justify_items": null,
            "left": null,
            "margin": null,
            "max_height": null,
            "max_width": null,
            "min_height": null,
            "min_width": null,
            "object_fit": null,
            "object_position": null,
            "order": null,
            "overflow": null,
            "overflow_x": null,
            "overflow_y": null,
            "padding": null,
            "right": null,
            "top": null,
            "visibility": null,
            "width": null
          }
        },
        "13de0eb86e8e491587de35108fc22d71": {
          "model_module": "@jupyter-widgets/controls",
          "model_name": "DescriptionStyleModel",
          "model_module_version": "1.5.0",
          "state": {
            "_model_module": "@jupyter-widgets/controls",
            "_model_module_version": "1.5.0",
            "_model_name": "DescriptionStyleModel",
            "_view_count": null,
            "_view_module": "@jupyter-widgets/base",
            "_view_module_version": "1.2.0",
            "_view_name": "StyleView",
            "description_width": ""
          }
        },
        "29c2ba31a1d243a3a99385a4ae2e12b4": {
          "model_module": "@jupyter-widgets/base",
          "model_name": "LayoutModel",
          "model_module_version": "1.2.0",
          "state": {
            "_model_module": "@jupyter-widgets/base",
            "_model_module_version": "1.2.0",
            "_model_name": "LayoutModel",
            "_view_count": null,
            "_view_module": "@jupyter-widgets/base",
            "_view_module_version": "1.2.0",
            "_view_name": "LayoutView",
            "align_content": null,
            "align_items": null,
            "align_self": null,
            "border": null,
            "bottom": null,
            "display": null,
            "flex": null,
            "flex_flow": null,
            "grid_area": null,
            "grid_auto_columns": null,
            "grid_auto_flow": null,
            "grid_auto_rows": null,
            "grid_column": null,
            "grid_gap": null,
            "grid_row": null,
            "grid_template_areas": null,
            "grid_template_columns": null,
            "grid_template_rows": null,
            "height": null,
            "justify_content": null,
            "justify_items": null,
            "left": null,
            "margin": null,
            "max_height": null,
            "max_width": null,
            "min_height": null,
            "min_width": null,
            "object_fit": null,
            "object_position": null,
            "order": null,
            "overflow": null,
            "overflow_x": null,
            "overflow_y": null,
            "padding": null,
            "right": null,
            "top": null,
            "visibility": null,
            "width": null
          }
        },
        "f5f78908e30e4f929975a5470831518f": {
          "model_module": "@jupyter-widgets/controls",
          "model_name": "ProgressStyleModel",
          "model_module_version": "1.5.0",
          "state": {
            "_model_module": "@jupyter-widgets/controls",
            "_model_module_version": "1.5.0",
            "_model_name": "ProgressStyleModel",
            "_view_count": null,
            "_view_module": "@jupyter-widgets/base",
            "_view_module_version": "1.2.0",
            "_view_name": "StyleView",
            "bar_color": null,
            "description_width": ""
          }
        },
        "529dd1ca5c5a44b19e635c45146e76a8": {
          "model_module": "@jupyter-widgets/base",
          "model_name": "LayoutModel",
          "model_module_version": "1.2.0",
          "state": {
            "_model_module": "@jupyter-widgets/base",
            "_model_module_version": "1.2.0",
            "_model_name": "LayoutModel",
            "_view_count": null,
            "_view_module": "@jupyter-widgets/base",
            "_view_module_version": "1.2.0",
            "_view_name": "LayoutView",
            "align_content": null,
            "align_items": null,
            "align_self": null,
            "border": null,
            "bottom": null,
            "display": null,
            "flex": null,
            "flex_flow": null,
            "grid_area": null,
            "grid_auto_columns": null,
            "grid_auto_flow": null,
            "grid_auto_rows": null,
            "grid_column": null,
            "grid_gap": null,
            "grid_row": null,
            "grid_template_areas": null,
            "grid_template_columns": null,
            "grid_template_rows": null,
            "height": null,
            "justify_content": null,
            "justify_items": null,
            "left": null,
            "margin": null,
            "max_height": null,
            "max_width": null,
            "min_height": null,
            "min_width": null,
            "object_fit": null,
            "object_position": null,
            "order": null,
            "overflow": null,
            "overflow_x": null,
            "overflow_y": null,
            "padding": null,
            "right": null,
            "top": null,
            "visibility": null,
            "width": null
          }
        },
        "7fb76b41762545399419bae59c41c797": {
          "model_module": "@jupyter-widgets/controls",
          "model_name": "DescriptionStyleModel",
          "model_module_version": "1.5.0",
          "state": {
            "_model_module": "@jupyter-widgets/controls",
            "_model_module_version": "1.5.0",
            "_model_name": "DescriptionStyleModel",
            "_view_count": null,
            "_view_module": "@jupyter-widgets/base",
            "_view_module_version": "1.2.0",
            "_view_name": "StyleView",
            "description_width": ""
          }
        },
        "948712c47c32423789b5b11a300b6407": {
          "model_module": "@jupyter-widgets/controls",
          "model_name": "HBoxModel",
          "model_module_version": "1.5.0",
          "state": {
            "_dom_classes": [],
            "_model_module": "@jupyter-widgets/controls",
            "_model_module_version": "1.5.0",
            "_model_name": "HBoxModel",
            "_view_count": null,
            "_view_module": "@jupyter-widgets/controls",
            "_view_module_version": "1.5.0",
            "_view_name": "HBoxView",
            "box_style": "",
            "children": [
              "IPY_MODEL_7e0f295bf84c4fedb37b073629f1f96a",
              "IPY_MODEL_0ab6f6b75bae4503a7aa845d2c536e38",
              "IPY_MODEL_446be8ac40b3405b8c394aad8af5c71f"
            ],
            "layout": "IPY_MODEL_7b0ce232fc0d4e9b8a891fe1fd93c6f2"
          }
        },
        "7e0f295bf84c4fedb37b073629f1f96a": {
          "model_module": "@jupyter-widgets/controls",
          "model_name": "HTMLModel",
          "model_module_version": "1.5.0",
          "state": {
            "_dom_classes": [],
            "_model_module": "@jupyter-widgets/controls",
            "_model_module_version": "1.5.0",
            "_model_name": "HTMLModel",
            "_view_count": null,
            "_view_module": "@jupyter-widgets/controls",
            "_view_module_version": "1.5.0",
            "_view_name": "HTMLView",
            "description": "",
            "description_tooltip": null,
            "layout": "IPY_MODEL_7cb4dc8419714213a8cd3dc30534f03f",
            "placeholder": "​",
            "style": "IPY_MODEL_851443facda54e1db64b6a6a7054c931",
            "value": "vocab.txt: 100%"
          }
        },
        "0ab6f6b75bae4503a7aa845d2c536e38": {
          "model_module": "@jupyter-widgets/controls",
          "model_name": "FloatProgressModel",
          "model_module_version": "1.5.0",
          "state": {
            "_dom_classes": [],
            "_model_module": "@jupyter-widgets/controls",
            "_model_module_version": "1.5.0",
            "_model_name": "FloatProgressModel",
            "_view_count": null,
            "_view_module": "@jupyter-widgets/controls",
            "_view_module_version": "1.5.0",
            "_view_name": "ProgressView",
            "bar_style": "success",
            "description": "",
            "description_tooltip": null,
            "layout": "IPY_MODEL_3225ac650f13478192da14efb671632d",
            "max": 231508,
            "min": 0,
            "orientation": "horizontal",
            "style": "IPY_MODEL_14e16a9a6c24433c917417bdebe11f13",
            "value": 231508
          }
        },
        "446be8ac40b3405b8c394aad8af5c71f": {
          "model_module": "@jupyter-widgets/controls",
          "model_name": "HTMLModel",
          "model_module_version": "1.5.0",
          "state": {
            "_dom_classes": [],
            "_model_module": "@jupyter-widgets/controls",
            "_model_module_version": "1.5.0",
            "_model_name": "HTMLModel",
            "_view_count": null,
            "_view_module": "@jupyter-widgets/controls",
            "_view_module_version": "1.5.0",
            "_view_name": "HTMLView",
            "description": "",
            "description_tooltip": null,
            "layout": "IPY_MODEL_caa2c4fc74e5478b89447ff79e60992c",
            "placeholder": "​",
            "style": "IPY_MODEL_efd266132f804c2cbb0f7d9b5b15b583",
            "value": " 232k/232k [00:00&lt;00:00, 2.91MB/s]"
          }
        },
        "7b0ce232fc0d4e9b8a891fe1fd93c6f2": {
          "model_module": "@jupyter-widgets/base",
          "model_name": "LayoutModel",
          "model_module_version": "1.2.0",
          "state": {
            "_model_module": "@jupyter-widgets/base",
            "_model_module_version": "1.2.0",
            "_model_name": "LayoutModel",
            "_view_count": null,
            "_view_module": "@jupyter-widgets/base",
            "_view_module_version": "1.2.0",
            "_view_name": "LayoutView",
            "align_content": null,
            "align_items": null,
            "align_self": null,
            "border": null,
            "bottom": null,
            "display": null,
            "flex": null,
            "flex_flow": null,
            "grid_area": null,
            "grid_auto_columns": null,
            "grid_auto_flow": null,
            "grid_auto_rows": null,
            "grid_column": null,
            "grid_gap": null,
            "grid_row": null,
            "grid_template_areas": null,
            "grid_template_columns": null,
            "grid_template_rows": null,
            "height": null,
            "justify_content": null,
            "justify_items": null,
            "left": null,
            "margin": null,
            "max_height": null,
            "max_width": null,
            "min_height": null,
            "min_width": null,
            "object_fit": null,
            "object_position": null,
            "order": null,
            "overflow": null,
            "overflow_x": null,
            "overflow_y": null,
            "padding": null,
            "right": null,
            "top": null,
            "visibility": null,
            "width": null
          }
        },
        "7cb4dc8419714213a8cd3dc30534f03f": {
          "model_module": "@jupyter-widgets/base",
          "model_name": "LayoutModel",
          "model_module_version": "1.2.0",
          "state": {
            "_model_module": "@jupyter-widgets/base",
            "_model_module_version": "1.2.0",
            "_model_name": "LayoutModel",
            "_view_count": null,
            "_view_module": "@jupyter-widgets/base",
            "_view_module_version": "1.2.0",
            "_view_name": "LayoutView",
            "align_content": null,
            "align_items": null,
            "align_self": null,
            "border": null,
            "bottom": null,
            "display": null,
            "flex": null,
            "flex_flow": null,
            "grid_area": null,
            "grid_auto_columns": null,
            "grid_auto_flow": null,
            "grid_auto_rows": null,
            "grid_column": null,
            "grid_gap": null,
            "grid_row": null,
            "grid_template_areas": null,
            "grid_template_columns": null,
            "grid_template_rows": null,
            "height": null,
            "justify_content": null,
            "justify_items": null,
            "left": null,
            "margin": null,
            "max_height": null,
            "max_width": null,
            "min_height": null,
            "min_width": null,
            "object_fit": null,
            "object_position": null,
            "order": null,
            "overflow": null,
            "overflow_x": null,
            "overflow_y": null,
            "padding": null,
            "right": null,
            "top": null,
            "visibility": null,
            "width": null
          }
        },
        "851443facda54e1db64b6a6a7054c931": {
          "model_module": "@jupyter-widgets/controls",
          "model_name": "DescriptionStyleModel",
          "model_module_version": "1.5.0",
          "state": {
            "_model_module": "@jupyter-widgets/controls",
            "_model_module_version": "1.5.0",
            "_model_name": "DescriptionStyleModel",
            "_view_count": null,
            "_view_module": "@jupyter-widgets/base",
            "_view_module_version": "1.2.0",
            "_view_name": "StyleView",
            "description_width": ""
          }
        },
        "3225ac650f13478192da14efb671632d": {
          "model_module": "@jupyter-widgets/base",
          "model_name": "LayoutModel",
          "model_module_version": "1.2.0",
          "state": {
            "_model_module": "@jupyter-widgets/base",
            "_model_module_version": "1.2.0",
            "_model_name": "LayoutModel",
            "_view_count": null,
            "_view_module": "@jupyter-widgets/base",
            "_view_module_version": "1.2.0",
            "_view_name": "LayoutView",
            "align_content": null,
            "align_items": null,
            "align_self": null,
            "border": null,
            "bottom": null,
            "display": null,
            "flex": null,
            "flex_flow": null,
            "grid_area": null,
            "grid_auto_columns": null,
            "grid_auto_flow": null,
            "grid_auto_rows": null,
            "grid_column": null,
            "grid_gap": null,
            "grid_row": null,
            "grid_template_areas": null,
            "grid_template_columns": null,
            "grid_template_rows": null,
            "height": null,
            "justify_content": null,
            "justify_items": null,
            "left": null,
            "margin": null,
            "max_height": null,
            "max_width": null,
            "min_height": null,
            "min_width": null,
            "object_fit": null,
            "object_position": null,
            "order": null,
            "overflow": null,
            "overflow_x": null,
            "overflow_y": null,
            "padding": null,
            "right": null,
            "top": null,
            "visibility": null,
            "width": null
          }
        },
        "14e16a9a6c24433c917417bdebe11f13": {
          "model_module": "@jupyter-widgets/controls",
          "model_name": "ProgressStyleModel",
          "model_module_version": "1.5.0",
          "state": {
            "_model_module": "@jupyter-widgets/controls",
            "_model_module_version": "1.5.0",
            "_model_name": "ProgressStyleModel",
            "_view_count": null,
            "_view_module": "@jupyter-widgets/base",
            "_view_module_version": "1.2.0",
            "_view_name": "StyleView",
            "bar_color": null,
            "description_width": ""
          }
        },
        "caa2c4fc74e5478b89447ff79e60992c": {
          "model_module": "@jupyter-widgets/base",
          "model_name": "LayoutModel",
          "model_module_version": "1.2.0",
          "state": {
            "_model_module": "@jupyter-widgets/base",
            "_model_module_version": "1.2.0",
            "_model_name": "LayoutModel",
            "_view_count": null,
            "_view_module": "@jupyter-widgets/base",
            "_view_module_version": "1.2.0",
            "_view_name": "LayoutView",
            "align_content": null,
            "align_items": null,
            "align_self": null,
            "border": null,
            "bottom": null,
            "display": null,
            "flex": null,
            "flex_flow": null,
            "grid_area": null,
            "grid_auto_columns": null,
            "grid_auto_flow": null,
            "grid_auto_rows": null,
            "grid_column": null,
            "grid_gap": null,
            "grid_row": null,
            "grid_template_areas": null,
            "grid_template_columns": null,
            "grid_template_rows": null,
            "height": null,
            "justify_content": null,
            "justify_items": null,
            "left": null,
            "margin": null,
            "max_height": null,
            "max_width": null,
            "min_height": null,
            "min_width": null,
            "object_fit": null,
            "object_position": null,
            "order": null,
            "overflow": null,
            "overflow_x": null,
            "overflow_y": null,
            "padding": null,
            "right": null,
            "top": null,
            "visibility": null,
            "width": null
          }
        },
        "efd266132f804c2cbb0f7d9b5b15b583": {
          "model_module": "@jupyter-widgets/controls",
          "model_name": "DescriptionStyleModel",
          "model_module_version": "1.5.0",
          "state": {
            "_model_module": "@jupyter-widgets/controls",
            "_model_module_version": "1.5.0",
            "_model_name": "DescriptionStyleModel",
            "_view_count": null,
            "_view_module": "@jupyter-widgets/base",
            "_view_module_version": "1.2.0",
            "_view_name": "StyleView",
            "description_width": ""
          }
        },
        "a55f1a9c2210441aa4403d6433ea7016": {
          "model_module": "@jupyter-widgets/controls",
          "model_name": "HBoxModel",
          "model_module_version": "1.5.0",
          "state": {
            "_dom_classes": [],
            "_model_module": "@jupyter-widgets/controls",
            "_model_module_version": "1.5.0",
            "_model_name": "HBoxModel",
            "_view_count": null,
            "_view_module": "@jupyter-widgets/controls",
            "_view_module_version": "1.5.0",
            "_view_name": "HBoxView",
            "box_style": "",
            "children": [
              "IPY_MODEL_1e0d446559454426bb25b1bc1e109aac",
              "IPY_MODEL_35b0dfec5abe442cbf8e2b39c3b66636",
              "IPY_MODEL_9993cb9bdf65454f8bd5f481c1bf272f"
            ],
            "layout": "IPY_MODEL_59fffe6877e24582b5f98e89832bc052"
          }
        },
        "1e0d446559454426bb25b1bc1e109aac": {
          "model_module": "@jupyter-widgets/controls",
          "model_name": "HTMLModel",
          "model_module_version": "1.5.0",
          "state": {
            "_dom_classes": [],
            "_model_module": "@jupyter-widgets/controls",
            "_model_module_version": "1.5.0",
            "_model_name": "HTMLModel",
            "_view_count": null,
            "_view_module": "@jupyter-widgets/controls",
            "_view_module_version": "1.5.0",
            "_view_name": "HTMLView",
            "description": "",
            "description_tooltip": null,
            "layout": "IPY_MODEL_537fb0aff5fa4d2399c879fb9fa0aea5",
            "placeholder": "​",
            "style": "IPY_MODEL_05d31d5dd5c64337a3aa0de98a5f0df5",
            "value": "tokenizer.json: 100%"
          }
        },
        "35b0dfec5abe442cbf8e2b39c3b66636": {
          "model_module": "@jupyter-widgets/controls",
          "model_name": "FloatProgressModel",
          "model_module_version": "1.5.0",
          "state": {
            "_dom_classes": [],
            "_model_module": "@jupyter-widgets/controls",
            "_model_module_version": "1.5.0",
            "_model_name": "FloatProgressModel",
            "_view_count": null,
            "_view_module": "@jupyter-widgets/controls",
            "_view_module_version": "1.5.0",
            "_view_name": "ProgressView",
            "bar_style": "success",
            "description": "",
            "description_tooltip": null,
            "layout": "IPY_MODEL_9bd3e3927f1645c490d0adb0c22e1679",
            "max": 466062,
            "min": 0,
            "orientation": "horizontal",
            "style": "IPY_MODEL_9f01427bcf214f5fa39d7a5742d165ba",
            "value": 466062
          }
        },
        "9993cb9bdf65454f8bd5f481c1bf272f": {
          "model_module": "@jupyter-widgets/controls",
          "model_name": "HTMLModel",
          "model_module_version": "1.5.0",
          "state": {
            "_dom_classes": [],
            "_model_module": "@jupyter-widgets/controls",
            "_model_module_version": "1.5.0",
            "_model_name": "HTMLModel",
            "_view_count": null,
            "_view_module": "@jupyter-widgets/controls",
            "_view_module_version": "1.5.0",
            "_view_name": "HTMLView",
            "description": "",
            "description_tooltip": null,
            "layout": "IPY_MODEL_22f5958b1c0343f7a616ac1253ea51a3",
            "placeholder": "​",
            "style": "IPY_MODEL_1bbb0c59449b43218a5e60c94fb9ba36",
            "value": " 466k/466k [00:00&lt;00:00, 3.54MB/s]"
          }
        },
        "59fffe6877e24582b5f98e89832bc052": {
          "model_module": "@jupyter-widgets/base",
          "model_name": "LayoutModel",
          "model_module_version": "1.2.0",
          "state": {
            "_model_module": "@jupyter-widgets/base",
            "_model_module_version": "1.2.0",
            "_model_name": "LayoutModel",
            "_view_count": null,
            "_view_module": "@jupyter-widgets/base",
            "_view_module_version": "1.2.0",
            "_view_name": "LayoutView",
            "align_content": null,
            "align_items": null,
            "align_self": null,
            "border": null,
            "bottom": null,
            "display": null,
            "flex": null,
            "flex_flow": null,
            "grid_area": null,
            "grid_auto_columns": null,
            "grid_auto_flow": null,
            "grid_auto_rows": null,
            "grid_column": null,
            "grid_gap": null,
            "grid_row": null,
            "grid_template_areas": null,
            "grid_template_columns": null,
            "grid_template_rows": null,
            "height": null,
            "justify_content": null,
            "justify_items": null,
            "left": null,
            "margin": null,
            "max_height": null,
            "max_width": null,
            "min_height": null,
            "min_width": null,
            "object_fit": null,
            "object_position": null,
            "order": null,
            "overflow": null,
            "overflow_x": null,
            "overflow_y": null,
            "padding": null,
            "right": null,
            "top": null,
            "visibility": null,
            "width": null
          }
        },
        "537fb0aff5fa4d2399c879fb9fa0aea5": {
          "model_module": "@jupyter-widgets/base",
          "model_name": "LayoutModel",
          "model_module_version": "1.2.0",
          "state": {
            "_model_module": "@jupyter-widgets/base",
            "_model_module_version": "1.2.0",
            "_model_name": "LayoutModel",
            "_view_count": null,
            "_view_module": "@jupyter-widgets/base",
            "_view_module_version": "1.2.0",
            "_view_name": "LayoutView",
            "align_content": null,
            "align_items": null,
            "align_self": null,
            "border": null,
            "bottom": null,
            "display": null,
            "flex": null,
            "flex_flow": null,
            "grid_area": null,
            "grid_auto_columns": null,
            "grid_auto_flow": null,
            "grid_auto_rows": null,
            "grid_column": null,
            "grid_gap": null,
            "grid_row": null,
            "grid_template_areas": null,
            "grid_template_columns": null,
            "grid_template_rows": null,
            "height": null,
            "justify_content": null,
            "justify_items": null,
            "left": null,
            "margin": null,
            "max_height": null,
            "max_width": null,
            "min_height": null,
            "min_width": null,
            "object_fit": null,
            "object_position": null,
            "order": null,
            "overflow": null,
            "overflow_x": null,
            "overflow_y": null,
            "padding": null,
            "right": null,
            "top": null,
            "visibility": null,
            "width": null
          }
        },
        "05d31d5dd5c64337a3aa0de98a5f0df5": {
          "model_module": "@jupyter-widgets/controls",
          "model_name": "DescriptionStyleModel",
          "model_module_version": "1.5.0",
          "state": {
            "_model_module": "@jupyter-widgets/controls",
            "_model_module_version": "1.5.0",
            "_model_name": "DescriptionStyleModel",
            "_view_count": null,
            "_view_module": "@jupyter-widgets/base",
            "_view_module_version": "1.2.0",
            "_view_name": "StyleView",
            "description_width": ""
          }
        },
        "9bd3e3927f1645c490d0adb0c22e1679": {
          "model_module": "@jupyter-widgets/base",
          "model_name": "LayoutModel",
          "model_module_version": "1.2.0",
          "state": {
            "_model_module": "@jupyter-widgets/base",
            "_model_module_version": "1.2.0",
            "_model_name": "LayoutModel",
            "_view_count": null,
            "_view_module": "@jupyter-widgets/base",
            "_view_module_version": "1.2.0",
            "_view_name": "LayoutView",
            "align_content": null,
            "align_items": null,
            "align_self": null,
            "border": null,
            "bottom": null,
            "display": null,
            "flex": null,
            "flex_flow": null,
            "grid_area": null,
            "grid_auto_columns": null,
            "grid_auto_flow": null,
            "grid_auto_rows": null,
            "grid_column": null,
            "grid_gap": null,
            "grid_row": null,
            "grid_template_areas": null,
            "grid_template_columns": null,
            "grid_template_rows": null,
            "height": null,
            "justify_content": null,
            "justify_items": null,
            "left": null,
            "margin": null,
            "max_height": null,
            "max_width": null,
            "min_height": null,
            "min_width": null,
            "object_fit": null,
            "object_position": null,
            "order": null,
            "overflow": null,
            "overflow_x": null,
            "overflow_y": null,
            "padding": null,
            "right": null,
            "top": null,
            "visibility": null,
            "width": null
          }
        },
        "9f01427bcf214f5fa39d7a5742d165ba": {
          "model_module": "@jupyter-widgets/controls",
          "model_name": "ProgressStyleModel",
          "model_module_version": "1.5.0",
          "state": {
            "_model_module": "@jupyter-widgets/controls",
            "_model_module_version": "1.5.0",
            "_model_name": "ProgressStyleModel",
            "_view_count": null,
            "_view_module": "@jupyter-widgets/base",
            "_view_module_version": "1.2.0",
            "_view_name": "StyleView",
            "bar_color": null,
            "description_width": ""
          }
        },
        "22f5958b1c0343f7a616ac1253ea51a3": {
          "model_module": "@jupyter-widgets/base",
          "model_name": "LayoutModel",
          "model_module_version": "1.2.0",
          "state": {
            "_model_module": "@jupyter-widgets/base",
            "_model_module_version": "1.2.0",
            "_model_name": "LayoutModel",
            "_view_count": null,
            "_view_module": "@jupyter-widgets/base",
            "_view_module_version": "1.2.0",
            "_view_name": "LayoutView",
            "align_content": null,
            "align_items": null,
            "align_self": null,
            "border": null,
            "bottom": null,
            "display": null,
            "flex": null,
            "flex_flow": null,
            "grid_area": null,
            "grid_auto_columns": null,
            "grid_auto_flow": null,
            "grid_auto_rows": null,
            "grid_column": null,
            "grid_gap": null,
            "grid_row": null,
            "grid_template_areas": null,
            "grid_template_columns": null,
            "grid_template_rows": null,
            "height": null,
            "justify_content": null,
            "justify_items": null,
            "left": null,
            "margin": null,
            "max_height": null,
            "max_width": null,
            "min_height": null,
            "min_width": null,
            "object_fit": null,
            "object_position": null,
            "order": null,
            "overflow": null,
            "overflow_x": null,
            "overflow_y": null,
            "padding": null,
            "right": null,
            "top": null,
            "visibility": null,
            "width": null
          }
        },
        "1bbb0c59449b43218a5e60c94fb9ba36": {
          "model_module": "@jupyter-widgets/controls",
          "model_name": "DescriptionStyleModel",
          "model_module_version": "1.5.0",
          "state": {
            "_model_module": "@jupyter-widgets/controls",
            "_model_module_version": "1.5.0",
            "_model_name": "DescriptionStyleModel",
            "_view_count": null,
            "_view_module": "@jupyter-widgets/base",
            "_view_module_version": "1.2.0",
            "_view_name": "StyleView",
            "description_width": ""
          }
        },
        "827be88a192b4d2eac9da452565a4911": {
          "model_module": "@jupyter-widgets/controls",
          "model_name": "HBoxModel",
          "model_module_version": "1.5.0",
          "state": {
            "_dom_classes": [],
            "_model_module": "@jupyter-widgets/controls",
            "_model_module_version": "1.5.0",
            "_model_name": "HBoxModel",
            "_view_count": null,
            "_view_module": "@jupyter-widgets/controls",
            "_view_module_version": "1.5.0",
            "_view_name": "HBoxView",
            "box_style": "",
            "children": [
              "IPY_MODEL_16224d3671b446c4b9455243065055fd",
              "IPY_MODEL_341ea0be19234d89b5e9a55b6fd0edb0",
              "IPY_MODEL_f6ec0a749f5c48028a75d2dfbf89ea1d"
            ],
            "layout": "IPY_MODEL_b75b5ca89dc24cf0b7139c19d1b6bf8a"
          }
        },
        "16224d3671b446c4b9455243065055fd": {
          "model_module": "@jupyter-widgets/controls",
          "model_name": "HTMLModel",
          "model_module_version": "1.5.0",
          "state": {
            "_dom_classes": [],
            "_model_module": "@jupyter-widgets/controls",
            "_model_module_version": "1.5.0",
            "_model_name": "HTMLModel",
            "_view_count": null,
            "_view_module": "@jupyter-widgets/controls",
            "_view_module_version": "1.5.0",
            "_view_name": "HTMLView",
            "description": "",
            "description_tooltip": null,
            "layout": "IPY_MODEL_c2c8dfecb1e64b5ab1a9cbd582a207db",
            "placeholder": "​",
            "style": "IPY_MODEL_eb61026bf8c94e779e2585e4b214c8d6",
            "value": "config.json: 100%"
          }
        },
        "341ea0be19234d89b5e9a55b6fd0edb0": {
          "model_module": "@jupyter-widgets/controls",
          "model_name": "FloatProgressModel",
          "model_module_version": "1.5.0",
          "state": {
            "_dom_classes": [],
            "_model_module": "@jupyter-widgets/controls",
            "_model_module_version": "1.5.0",
            "_model_name": "FloatProgressModel",
            "_view_count": null,
            "_view_module": "@jupyter-widgets/controls",
            "_view_module_version": "1.5.0",
            "_view_name": "ProgressView",
            "bar_style": "success",
            "description": "",
            "description_tooltip": null,
            "layout": "IPY_MODEL_0ed7eda6f0634fb584ebd5e24413ec08",
            "max": 483,
            "min": 0,
            "orientation": "horizontal",
            "style": "IPY_MODEL_94efa1bd015a416f91a1743f95a30886",
            "value": 483
          }
        },
        "f6ec0a749f5c48028a75d2dfbf89ea1d": {
          "model_module": "@jupyter-widgets/controls",
          "model_name": "HTMLModel",
          "model_module_version": "1.5.0",
          "state": {
            "_dom_classes": [],
            "_model_module": "@jupyter-widgets/controls",
            "_model_module_version": "1.5.0",
            "_model_name": "HTMLModel",
            "_view_count": null,
            "_view_module": "@jupyter-widgets/controls",
            "_view_module_version": "1.5.0",
            "_view_name": "HTMLView",
            "description": "",
            "description_tooltip": null,
            "layout": "IPY_MODEL_c8d489eadde6424da210552923bb3348",
            "placeholder": "​",
            "style": "IPY_MODEL_649a628d4868405f97ea02f1c2f1eedf",
            "value": " 483/483 [00:00&lt;00:00, 11.8kB/s]"
          }
        },
        "b75b5ca89dc24cf0b7139c19d1b6bf8a": {
          "model_module": "@jupyter-widgets/base",
          "model_name": "LayoutModel",
          "model_module_version": "1.2.0",
          "state": {
            "_model_module": "@jupyter-widgets/base",
            "_model_module_version": "1.2.0",
            "_model_name": "LayoutModel",
            "_view_count": null,
            "_view_module": "@jupyter-widgets/base",
            "_view_module_version": "1.2.0",
            "_view_name": "LayoutView",
            "align_content": null,
            "align_items": null,
            "align_self": null,
            "border": null,
            "bottom": null,
            "display": null,
            "flex": null,
            "flex_flow": null,
            "grid_area": null,
            "grid_auto_columns": null,
            "grid_auto_flow": null,
            "grid_auto_rows": null,
            "grid_column": null,
            "grid_gap": null,
            "grid_row": null,
            "grid_template_areas": null,
            "grid_template_columns": null,
            "grid_template_rows": null,
            "height": null,
            "justify_content": null,
            "justify_items": null,
            "left": null,
            "margin": null,
            "max_height": null,
            "max_width": null,
            "min_height": null,
            "min_width": null,
            "object_fit": null,
            "object_position": null,
            "order": null,
            "overflow": null,
            "overflow_x": null,
            "overflow_y": null,
            "padding": null,
            "right": null,
            "top": null,
            "visibility": null,
            "width": null
          }
        },
        "c2c8dfecb1e64b5ab1a9cbd582a207db": {
          "model_module": "@jupyter-widgets/base",
          "model_name": "LayoutModel",
          "model_module_version": "1.2.0",
          "state": {
            "_model_module": "@jupyter-widgets/base",
            "_model_module_version": "1.2.0",
            "_model_name": "LayoutModel",
            "_view_count": null,
            "_view_module": "@jupyter-widgets/base",
            "_view_module_version": "1.2.0",
            "_view_name": "LayoutView",
            "align_content": null,
            "align_items": null,
            "align_self": null,
            "border": null,
            "bottom": null,
            "display": null,
            "flex": null,
            "flex_flow": null,
            "grid_area": null,
            "grid_auto_columns": null,
            "grid_auto_flow": null,
            "grid_auto_rows": null,
            "grid_column": null,
            "grid_gap": null,
            "grid_row": null,
            "grid_template_areas": null,
            "grid_template_columns": null,
            "grid_template_rows": null,
            "height": null,
            "justify_content": null,
            "justify_items": null,
            "left": null,
            "margin": null,
            "max_height": null,
            "max_width": null,
            "min_height": null,
            "min_width": null,
            "object_fit": null,
            "object_position": null,
            "order": null,
            "overflow": null,
            "overflow_x": null,
            "overflow_y": null,
            "padding": null,
            "right": null,
            "top": null,
            "visibility": null,
            "width": null
          }
        },
        "eb61026bf8c94e779e2585e4b214c8d6": {
          "model_module": "@jupyter-widgets/controls",
          "model_name": "DescriptionStyleModel",
          "model_module_version": "1.5.0",
          "state": {
            "_model_module": "@jupyter-widgets/controls",
            "_model_module_version": "1.5.0",
            "_model_name": "DescriptionStyleModel",
            "_view_count": null,
            "_view_module": "@jupyter-widgets/base",
            "_view_module_version": "1.2.0",
            "_view_name": "StyleView",
            "description_width": ""
          }
        },
        "0ed7eda6f0634fb584ebd5e24413ec08": {
          "model_module": "@jupyter-widgets/base",
          "model_name": "LayoutModel",
          "model_module_version": "1.2.0",
          "state": {
            "_model_module": "@jupyter-widgets/base",
            "_model_module_version": "1.2.0",
            "_model_name": "LayoutModel",
            "_view_count": null,
            "_view_module": "@jupyter-widgets/base",
            "_view_module_version": "1.2.0",
            "_view_name": "LayoutView",
            "align_content": null,
            "align_items": null,
            "align_self": null,
            "border": null,
            "bottom": null,
            "display": null,
            "flex": null,
            "flex_flow": null,
            "grid_area": null,
            "grid_auto_columns": null,
            "grid_auto_flow": null,
            "grid_auto_rows": null,
            "grid_column": null,
            "grid_gap": null,
            "grid_row": null,
            "grid_template_areas": null,
            "grid_template_columns": null,
            "grid_template_rows": null,
            "height": null,
            "justify_content": null,
            "justify_items": null,
            "left": null,
            "margin": null,
            "max_height": null,
            "max_width": null,
            "min_height": null,
            "min_width": null,
            "object_fit": null,
            "object_position": null,
            "order": null,
            "overflow": null,
            "overflow_x": null,
            "overflow_y": null,
            "padding": null,
            "right": null,
            "top": null,
            "visibility": null,
            "width": null
          }
        },
        "94efa1bd015a416f91a1743f95a30886": {
          "model_module": "@jupyter-widgets/controls",
          "model_name": "ProgressStyleModel",
          "model_module_version": "1.5.0",
          "state": {
            "_model_module": "@jupyter-widgets/controls",
            "_model_module_version": "1.5.0",
            "_model_name": "ProgressStyleModel",
            "_view_count": null,
            "_view_module": "@jupyter-widgets/base",
            "_view_module_version": "1.2.0",
            "_view_name": "StyleView",
            "bar_color": null,
            "description_width": ""
          }
        },
        "c8d489eadde6424da210552923bb3348": {
          "model_module": "@jupyter-widgets/base",
          "model_name": "LayoutModel",
          "model_module_version": "1.2.0",
          "state": {
            "_model_module": "@jupyter-widgets/base",
            "_model_module_version": "1.2.0",
            "_model_name": "LayoutModel",
            "_view_count": null,
            "_view_module": "@jupyter-widgets/base",
            "_view_module_version": "1.2.0",
            "_view_name": "LayoutView",
            "align_content": null,
            "align_items": null,
            "align_self": null,
            "border": null,
            "bottom": null,
            "display": null,
            "flex": null,
            "flex_flow": null,
            "grid_area": null,
            "grid_auto_columns": null,
            "grid_auto_flow": null,
            "grid_auto_rows": null,
            "grid_column": null,
            "grid_gap": null,
            "grid_row": null,
            "grid_template_areas": null,
            "grid_template_columns": null,
            "grid_template_rows": null,
            "height": null,
            "justify_content": null,
            "justify_items": null,
            "left": null,
            "margin": null,
            "max_height": null,
            "max_width": null,
            "min_height": null,
            "min_width": null,
            "object_fit": null,
            "object_position": null,
            "order": null,
            "overflow": null,
            "overflow_x": null,
            "overflow_y": null,
            "padding": null,
            "right": null,
            "top": null,
            "visibility": null,
            "width": null
          }
        },
        "649a628d4868405f97ea02f1c2f1eedf": {
          "model_module": "@jupyter-widgets/controls",
          "model_name": "DescriptionStyleModel",
          "model_module_version": "1.5.0",
          "state": {
            "_model_module": "@jupyter-widgets/controls",
            "_model_module_version": "1.5.0",
            "_model_name": "DescriptionStyleModel",
            "_view_count": null,
            "_view_module": "@jupyter-widgets/base",
            "_view_module_version": "1.2.0",
            "_view_name": "StyleView",
            "description_width": ""
          }
        }
      }
    }
  },
  "cells": [
    {
      "cell_type": "code",
      "execution_count": 61,
      "metadata": {
        "colab": {
          "base_uri": "https://localhost:8080/",
          "height": 150
        },
        "id": "ixCe9OWi6_DO",
        "outputId": "488a8609-100f-4493-d94d-5ac1d5e9110f"
      },
      "outputs": [
        {
          "output_type": "execute_result",
          "data": {
            "text/plain": [
              "                                            headline subheadline  \\\n",
              "0  Stray incidents of violence mark 2nd day non-s...         NaN   \n",
              "\n",
              "            date                                               slug  \\\n",
              "0  1388674612000  bangladesh/Stray-incidents-of-violence-mark-2n...   \n",
              "\n",
              "                                                 url  \\\n",
              "0  https://en.prothomalo.com/bangladesh/Stray-inc...   \n",
              "\n",
              "                                        full_content  \n",
              "0  The second day of the indefinite blockade, enf...  "
            ],
            "text/html": [
              "\n",
              "  <div id=\"df-cde89ed3-c00b-49bb-9e71-e52ca0c3c1c1\" class=\"colab-df-container\">\n",
              "    <div>\n",
              "<style scoped>\n",
              "    .dataframe tbody tr th:only-of-type {\n",
              "        vertical-align: middle;\n",
              "    }\n",
              "\n",
              "    .dataframe tbody tr th {\n",
              "        vertical-align: top;\n",
              "    }\n",
              "\n",
              "    .dataframe thead th {\n",
              "        text-align: right;\n",
              "    }\n",
              "</style>\n",
              "<table border=\"1\" class=\"dataframe\">\n",
              "  <thead>\n",
              "    <tr style=\"text-align: right;\">\n",
              "      <th></th>\n",
              "      <th>headline</th>\n",
              "      <th>subheadline</th>\n",
              "      <th>date</th>\n",
              "      <th>slug</th>\n",
              "      <th>url</th>\n",
              "      <th>full_content</th>\n",
              "    </tr>\n",
              "  </thead>\n",
              "  <tbody>\n",
              "    <tr>\n",
              "      <th>0</th>\n",
              "      <td>Stray incidents of violence mark 2nd day non-s...</td>\n",
              "      <td>NaN</td>\n",
              "      <td>1388674612000</td>\n",
              "      <td>bangladesh/Stray-incidents-of-violence-mark-2n...</td>\n",
              "      <td>https://en.prothomalo.com/bangladesh/Stray-inc...</td>\n",
              "      <td>The second day of the indefinite blockade, enf...</td>\n",
              "    </tr>\n",
              "  </tbody>\n",
              "</table>\n",
              "</div>\n",
              "    <div class=\"colab-df-buttons\">\n",
              "\n",
              "  <div class=\"colab-df-container\">\n",
              "    <button class=\"colab-df-convert\" onclick=\"convertToInteractive('df-cde89ed3-c00b-49bb-9e71-e52ca0c3c1c1')\"\n",
              "            title=\"Convert this dataframe to an interactive table.\"\n",
              "            style=\"display:none;\">\n",
              "\n",
              "  <svg xmlns=\"http://www.w3.org/2000/svg\" height=\"24px\" viewBox=\"0 -960 960 960\">\n",
              "    <path d=\"M120-120v-720h720v720H120Zm60-500h600v-160H180v160Zm220 220h160v-160H400v160Zm0 220h160v-160H400v160ZM180-400h160v-160H180v160Zm440 0h160v-160H620v160ZM180-180h160v-160H180v160Zm440 0h160v-160H620v160Z\"/>\n",
              "  </svg>\n",
              "    </button>\n",
              "\n",
              "  <style>\n",
              "    .colab-df-container {\n",
              "      display:flex;\n",
              "      gap: 12px;\n",
              "    }\n",
              "\n",
              "    .colab-df-convert {\n",
              "      background-color: #E8F0FE;\n",
              "      border: none;\n",
              "      border-radius: 50%;\n",
              "      cursor: pointer;\n",
              "      display: none;\n",
              "      fill: #1967D2;\n",
              "      height: 32px;\n",
              "      padding: 0 0 0 0;\n",
              "      width: 32px;\n",
              "    }\n",
              "\n",
              "    .colab-df-convert:hover {\n",
              "      background-color: #E2EBFA;\n",
              "      box-shadow: 0px 1px 2px rgba(60, 64, 67, 0.3), 0px 1px 3px 1px rgba(60, 64, 67, 0.15);\n",
              "      fill: #174EA6;\n",
              "    }\n",
              "\n",
              "    .colab-df-buttons div {\n",
              "      margin-bottom: 4px;\n",
              "    }\n",
              "\n",
              "    [theme=dark] .colab-df-convert {\n",
              "      background-color: #3B4455;\n",
              "      fill: #D2E3FC;\n",
              "    }\n",
              "\n",
              "    [theme=dark] .colab-df-convert:hover {\n",
              "      background-color: #434B5C;\n",
              "      box-shadow: 0px 1px 3px 1px rgba(0, 0, 0, 0.15);\n",
              "      filter: drop-shadow(0px 1px 2px rgba(0, 0, 0, 0.3));\n",
              "      fill: #FFFFFF;\n",
              "    }\n",
              "  </style>\n",
              "\n",
              "    <script>\n",
              "      const buttonEl =\n",
              "        document.querySelector('#df-cde89ed3-c00b-49bb-9e71-e52ca0c3c1c1 button.colab-df-convert');\n",
              "      buttonEl.style.display =\n",
              "        google.colab.kernel.accessAllowed ? 'block' : 'none';\n",
              "\n",
              "      async function convertToInteractive(key) {\n",
              "        const element = document.querySelector('#df-cde89ed3-c00b-49bb-9e71-e52ca0c3c1c1');\n",
              "        const dataTable =\n",
              "          await google.colab.kernel.invokeFunction('convertToInteractive',\n",
              "                                                    [key], {});\n",
              "        if (!dataTable) return;\n",
              "\n",
              "        const docLinkHtml = 'Like what you see? Visit the ' +\n",
              "          '<a target=\"_blank\" href=https://colab.research.google.com/notebooks/data_table.ipynb>data table notebook</a>'\n",
              "          + ' to learn more about interactive tables.';\n",
              "        element.innerHTML = '';\n",
              "        dataTable['output_type'] = 'display_data';\n",
              "        await google.colab.output.renderOutput(dataTable, element);\n",
              "        const docLink = document.createElement('div');\n",
              "        docLink.innerHTML = docLinkHtml;\n",
              "        element.appendChild(docLink);\n",
              "      }\n",
              "    </script>\n",
              "  </div>\n",
              "\n",
              "\n",
              "    </div>\n",
              "  </div>\n"
            ],
            "application/vnd.google.colaboratory.intrinsic+json": {
              "type": "dataframe",
              "variable_name": "df",
              "summary": "{\n  \"name\": \"df\",\n  \"rows\": 9900,\n  \"fields\": [\n    {\n      \"column\": \"headline\",\n      \"properties\": {\n        \"dtype\": \"string\",\n        \"num_unique_values\": 9820,\n        \"samples\": [\n          \"Ban calls Hasina, discusses city polls\",\n          \"Journalist Golam Faruque dies\",\n          \"Keraniganj highway blockade withdrawn\"\n        ],\n        \"semantic_type\": \"\",\n        \"description\": \"\"\n      }\n    },\n    {\n      \"column\": \"subheadline\",\n      \"properties\": {\n        \"dtype\": \"category\",\n        \"num_unique_values\": 284,\n        \"samples\": [\n          \"'Lakho Konthe Sonar Bangla'\",\n          \"Badda gun attack\",\n          \"Japanese PM at meeting with Khaleda\"\n        ],\n        \"semantic_type\": \"\",\n        \"description\": \"\"\n      }\n    },\n    {\n      \"column\": \"date\",\n      \"properties\": {\n        \"dtype\": \"number\",\n        \"std\": 14754831930,\n        \"min\": 1388674612000,\n        \"max\": 1444798374000,\n        \"num_unique_values\": 9899,\n        \"samples\": [\n          1438358143000,\n          1423988987000,\n          1418033982000\n        ],\n        \"semantic_type\": \"\",\n        \"description\": \"\"\n      }\n    },\n    {\n      \"column\": \"slug\",\n      \"properties\": {\n        \"dtype\": \"string\",\n        \"num_unique_values\": 9900,\n        \"samples\": [\n          \"bangladesh/AL-s-40-day-programme-on-Mujib\\u2019s-death-anniv\",\n          \"bangladesh/PM-asks-BNP-to-return-to-democratic-path\",\n          \"bangladesh/Govt-prepares-hard-line-against-opposition\"\n        ],\n        \"semantic_type\": \"\",\n        \"description\": \"\"\n      }\n    },\n    {\n      \"column\": \"url\",\n      \"properties\": {\n        \"dtype\": \"string\",\n        \"num_unique_values\": 9900,\n        \"samples\": [\n          \"https://en.prothomalo.com/bangladesh/AL-s-40-day-programme-on-Mujib\\u2019s-death-anniv\",\n          \"https://en.prothomalo.com/bangladesh/PM-asks-BNP-to-return-to-democratic-path\",\n          \"https://en.prothomalo.com/bangladesh/Govt-prepares-hard-line-against-opposition\"\n        ],\n        \"semantic_type\": \"\",\n        \"description\": \"\"\n      }\n    },\n    {\n      \"column\": \"full_content\",\n      \"properties\": {\n        \"dtype\": \"string\",\n        \"num_unique_values\": 9892,\n        \"samples\": [\n          \"The Permanent Court of Arbitration (PCA) at The Hague in Netherlands is likely to give its verdict within this month over the Bangladesh-India maritime boundary dispute.\\nSecretary of the Maritime Affairs Unit at the Ministry of Foreign Affairs Khurshed Alam said the specific date of the announcement of verdict was not fixed yet.\\n\\\"But the proceedings of the case have been prepared and it was set that the verdict will be announced in June 2014,\\u201d he told UNB on Wednesday.\\nAlam, who is dealing with the maritime boundary issue for last few years, informed that the Court is yet to inform Bangladesh about the date of announcement of its verdict.\\nBangladesh and neighbouring India have been locked in the maritime boundary disputes over 10 gas blocks in the Bay of Bengal.\\nBoth the nations have been claiming the area as their own.\\nAgainst the Indian claim, Bangladesh lodged its own claim with the UNCLOS in 2009 and the final hearing of the both sides took place in the Permanent Court of Arbitration (PCA) in the Hague in Netherlands in December last year.\\nThe hearing of the case was held at the Permanent Court of Arbitration (PCA) in Netherlands from December 9-18, 2013 with former Foreign Minister Dr Dipu Moni and a team of lawyers appointed by Bangladesh taking part.\\nKhurshed Alam said Bangladesh has made its claim on its maritime area on the basis of \\u2018equitable\\u2019 sharing while India has made its claim on the basis of \\u2018equidistance\\u2019.\\nBangladesh is very hopeful of wining the verdict in its favour, he added.\\nOver the course of the hearing, both the parties have presented their position on certain key issues relating to the maritime boundary between\\u00a0 the two States, including the\\u00a0 location of the land boundary terminus\\u00a0 between them, the delimitation of the Territorial Sea, the Exclusive Economic Zone, and the Continental Shelf within and beyond 200 nautical miles.\\nOn October 8, 2009, Bangladesh instituted arbitral proceedings over the delimitation of the maritime boundary between Bangladesh and India pursuant to article 287 and Annex VII, Article 1 of the United Nations Convention on the Law of the Sea (UNCLOS).\\nThe Permanent Court of Arbitration (PCA) acts as registry in this arbitration.\\nEarlier, Bangladesh won a landmark verdict against Myanmar on March 14, 2012 at the ITLOS and through the verdict, Bangladesh sustained its claim to the 200 nautical mile exclusive economic and territorial rights in the Bay of Bengal.\\nBefore the hearing, Bangladesh submitted the required papers to lay its claim to territorial waters, Exclusive Economic Zone up to 200 nautical miles and Continental Shelf up to 350 nautical miles from the baseline. The PCA has fixed July 31 this year to hear India\\u2019s rejoinder on this issue.\\nThe maritime boundary between India and Bangladesh is not delineated. Both the countries co-occupy 180 km of a maritime borderline.\\nThere have always been claims and counter-claims and overlapping claims. The issue came to a head after India discovered huge hydrocarbon deposits in the Bay of Bengal.\\nFollow the Google news channel to get Prothom Alo's latest news\",\n          \"Hasanul Haq Inu. File Photo\\nInformation minister Hasanul Haq Inu held BNP chairperson Khaleda Zia responsible for arsoning, saying hunger for power has made her unable to fathom the pain of arson victims.\\n\\\"You understand only power. But don't you feel the pain of the burn victims fighting for their lives?\\\" said the minister.\\nHe added, \\\"This is as clear as daylight that Khaleda Zia is patronising the arsonists.\\\"\\nHe termed the BNP chief as the accomplice of the Razakar of 1971, the killers of 1975, mastermind of the grenade attacks in August 21, saying, \\\"The countrymen will defeat her eventually.\\\"\\nHe also said the religious preachers are the conscience of the society.\\nHe was speaking at the 150th birth anniversary of the Buddhist religious preacher Kripa Sharan Mohasthabir in Dharmarajika Buddhist Monastery in city's Bashabo area, says a press release.\\nFollow the Google news channel to get Prothom Alo's latest news\",\n          \"The Anti Corruption Commission (ACC) on Thursday held an upazila engineer red-handed at his office in Rampal upazila of Bagerhat while taking bribe from the proprietor of a construction firm.\\nA team of ACC Khulna regional office, led by its director AKM Jayed Hossain Khan, went to LGED local office in Rampal at about 12:30pm and arrested upazila engineer M Nuruzzaman who was taking Tk 20,000, allegedly bribe money, from one Rainbow Enterprise proprietor Golam Azam who had earlier informed ACC about Nuruzzaman's demand of bribe, said ACC public relations officer Pranab Kumar Bhattacharya.\\nIt was understood that Rainbow Enterprise had completed a development project in Rampal and when its proprietor Golam Azam went to LGED local office to withdraw the security money of Tk\\u00a02 lakh, Nuruzzaman demanded Tk\\u00a050,000 for releasing it.\\nFollow the Google news channel to get Prothom Alo's latest news\"\n        ],\n        \"semantic_type\": \"\",\n        \"description\": \"\"\n      }\n    }\n  ]\n}"
            }
          },
          "metadata": {},
          "execution_count": 61
        }
      ],
      "source": [
        "import pandas as pd\n",
        "\n",
        "file_path = '/content/drive/Shareddrives/Faraz /Sentiment Analysis 1/prothom_alo_news_dataset_with_content.csv'\n",
        "df = pd.read_csv(file_path)\n",
        "\n",
        "\n",
        "df.head(1)\n"
      ]
    },
    {
      "cell_type": "code",
      "source": [
        "df.drop(columns=['subheadline'], inplace=True)\n",
        "df.head()"
      ],
      "metadata": {
        "colab": {
          "base_uri": "https://localhost:8080/",
          "height": 397
        },
        "id": "cBB9qIpO74Vk",
        "outputId": "365be621-3480-41e0-d976-a198a405c7f3"
      },
      "execution_count": 63,
      "outputs": [
        {
          "output_type": "execute_result",
          "data": {
            "text/plain": [
              "                                            headline           date  \\\n",
              "0  Stray incidents of violence mark 2nd day non-s...  1388674612000   \n",
              "1   Mawa-Kawrakandi ferry link resumes after 5 hours  1388675979000   \n",
              "2                      Joint forces detain 30 in Ctg  1388676478000   \n",
              "3                Army organises eye camp in Faridpur  1388842626000   \n",
              "4  Tarique's video message urges people to boycot...  1388853704000   \n",
              "\n",
              "                                                slug  \\\n",
              "0  bangladesh/Stray-incidents-of-violence-mark-2n...   \n",
              "1  bangladesh/Mawa-Kawrakandi-ferry-link-resumes-...   \n",
              "2           bangladesh/Joint-forces-detain-30-in-Ctg   \n",
              "3     bangladesh/Army-organises-eye-camp-in-Faridpur   \n",
              "4  bangladesh/Tarique-s-video-message-urges-peopl...   \n",
              "\n",
              "                                                 url  \\\n",
              "0  https://en.prothomalo.com/bangladesh/Stray-inc...   \n",
              "1  https://en.prothomalo.com/bangladesh/Mawa-Kawr...   \n",
              "2  https://en.prothomalo.com/bangladesh/Joint-for...   \n",
              "3  https://en.prothomalo.com/bangladesh/Army-orga...   \n",
              "4  https://en.prothomalo.com/bangladesh/Tarique-s...   \n",
              "\n",
              "                                        full_content  \n",
              "0  The second day of the indefinite blockade, enf...  \n",
              "1   Ferry services on the Mawa-Kawrakandi route r...  \n",
              "2  Different teams of the joint forces detained 3...  \n",
              "3  The ninth infantry division of Bangladesh Army...  \n",
              "4  BNP senior vice president Tarique Rahman appea...  "
            ],
            "text/html": [
              "\n",
              "  <div id=\"df-6537ded3-bc84-4b2b-a110-90be030c774b\" class=\"colab-df-container\">\n",
              "    <div>\n",
              "<style scoped>\n",
              "    .dataframe tbody tr th:only-of-type {\n",
              "        vertical-align: middle;\n",
              "    }\n",
              "\n",
              "    .dataframe tbody tr th {\n",
              "        vertical-align: top;\n",
              "    }\n",
              "\n",
              "    .dataframe thead th {\n",
              "        text-align: right;\n",
              "    }\n",
              "</style>\n",
              "<table border=\"1\" class=\"dataframe\">\n",
              "  <thead>\n",
              "    <tr style=\"text-align: right;\">\n",
              "      <th></th>\n",
              "      <th>headline</th>\n",
              "      <th>date</th>\n",
              "      <th>slug</th>\n",
              "      <th>url</th>\n",
              "      <th>full_content</th>\n",
              "    </tr>\n",
              "  </thead>\n",
              "  <tbody>\n",
              "    <tr>\n",
              "      <th>0</th>\n",
              "      <td>Stray incidents of violence mark 2nd day non-s...</td>\n",
              "      <td>1388674612000</td>\n",
              "      <td>bangladesh/Stray-incidents-of-violence-mark-2n...</td>\n",
              "      <td>https://en.prothomalo.com/bangladesh/Stray-inc...</td>\n",
              "      <td>The second day of the indefinite blockade, enf...</td>\n",
              "    </tr>\n",
              "    <tr>\n",
              "      <th>1</th>\n",
              "      <td>Mawa-Kawrakandi ferry link resumes after 5 hours</td>\n",
              "      <td>1388675979000</td>\n",
              "      <td>bangladesh/Mawa-Kawrakandi-ferry-link-resumes-...</td>\n",
              "      <td>https://en.prothomalo.com/bangladesh/Mawa-Kawr...</td>\n",
              "      <td>Ferry services on the Mawa-Kawrakandi route r...</td>\n",
              "    </tr>\n",
              "    <tr>\n",
              "      <th>2</th>\n",
              "      <td>Joint forces detain 30 in Ctg</td>\n",
              "      <td>1388676478000</td>\n",
              "      <td>bangladesh/Joint-forces-detain-30-in-Ctg</td>\n",
              "      <td>https://en.prothomalo.com/bangladesh/Joint-for...</td>\n",
              "      <td>Different teams of the joint forces detained 3...</td>\n",
              "    </tr>\n",
              "    <tr>\n",
              "      <th>3</th>\n",
              "      <td>Army organises eye camp in Faridpur</td>\n",
              "      <td>1388842626000</td>\n",
              "      <td>bangladesh/Army-organises-eye-camp-in-Faridpur</td>\n",
              "      <td>https://en.prothomalo.com/bangladesh/Army-orga...</td>\n",
              "      <td>The ninth infantry division of Bangladesh Army...</td>\n",
              "    </tr>\n",
              "    <tr>\n",
              "      <th>4</th>\n",
              "      <td>Tarique's video message urges people to boycot...</td>\n",
              "      <td>1388853704000</td>\n",
              "      <td>bangladesh/Tarique-s-video-message-urges-peopl...</td>\n",
              "      <td>https://en.prothomalo.com/bangladesh/Tarique-s...</td>\n",
              "      <td>BNP senior vice president Tarique Rahman appea...</td>\n",
              "    </tr>\n",
              "  </tbody>\n",
              "</table>\n",
              "</div>\n",
              "    <div class=\"colab-df-buttons\">\n",
              "\n",
              "  <div class=\"colab-df-container\">\n",
              "    <button class=\"colab-df-convert\" onclick=\"convertToInteractive('df-6537ded3-bc84-4b2b-a110-90be030c774b')\"\n",
              "            title=\"Convert this dataframe to an interactive table.\"\n",
              "            style=\"display:none;\">\n",
              "\n",
              "  <svg xmlns=\"http://www.w3.org/2000/svg\" height=\"24px\" viewBox=\"0 -960 960 960\">\n",
              "    <path d=\"M120-120v-720h720v720H120Zm60-500h600v-160H180v160Zm220 220h160v-160H400v160Zm0 220h160v-160H400v160ZM180-400h160v-160H180v160Zm440 0h160v-160H620v160ZM180-180h160v-160H180v160Zm440 0h160v-160H620v160Z\"/>\n",
              "  </svg>\n",
              "    </button>\n",
              "\n",
              "  <style>\n",
              "    .colab-df-container {\n",
              "      display:flex;\n",
              "      gap: 12px;\n",
              "    }\n",
              "\n",
              "    .colab-df-convert {\n",
              "      background-color: #E8F0FE;\n",
              "      border: none;\n",
              "      border-radius: 50%;\n",
              "      cursor: pointer;\n",
              "      display: none;\n",
              "      fill: #1967D2;\n",
              "      height: 32px;\n",
              "      padding: 0 0 0 0;\n",
              "      width: 32px;\n",
              "    }\n",
              "\n",
              "    .colab-df-convert:hover {\n",
              "      background-color: #E2EBFA;\n",
              "      box-shadow: 0px 1px 2px rgba(60, 64, 67, 0.3), 0px 1px 3px 1px rgba(60, 64, 67, 0.15);\n",
              "      fill: #174EA6;\n",
              "    }\n",
              "\n",
              "    .colab-df-buttons div {\n",
              "      margin-bottom: 4px;\n",
              "    }\n",
              "\n",
              "    [theme=dark] .colab-df-convert {\n",
              "      background-color: #3B4455;\n",
              "      fill: #D2E3FC;\n",
              "    }\n",
              "\n",
              "    [theme=dark] .colab-df-convert:hover {\n",
              "      background-color: #434B5C;\n",
              "      box-shadow: 0px 1px 3px 1px rgba(0, 0, 0, 0.15);\n",
              "      filter: drop-shadow(0px 1px 2px rgba(0, 0, 0, 0.3));\n",
              "      fill: #FFFFFF;\n",
              "    }\n",
              "  </style>\n",
              "\n",
              "    <script>\n",
              "      const buttonEl =\n",
              "        document.querySelector('#df-6537ded3-bc84-4b2b-a110-90be030c774b button.colab-df-convert');\n",
              "      buttonEl.style.display =\n",
              "        google.colab.kernel.accessAllowed ? 'block' : 'none';\n",
              "\n",
              "      async function convertToInteractive(key) {\n",
              "        const element = document.querySelector('#df-6537ded3-bc84-4b2b-a110-90be030c774b');\n",
              "        const dataTable =\n",
              "          await google.colab.kernel.invokeFunction('convertToInteractive',\n",
              "                                                    [key], {});\n",
              "        if (!dataTable) return;\n",
              "\n",
              "        const docLinkHtml = 'Like what you see? Visit the ' +\n",
              "          '<a target=\"_blank\" href=https://colab.research.google.com/notebooks/data_table.ipynb>data table notebook</a>'\n",
              "          + ' to learn more about interactive tables.';\n",
              "        element.innerHTML = '';\n",
              "        dataTable['output_type'] = 'display_data';\n",
              "        await google.colab.output.renderOutput(dataTable, element);\n",
              "        const docLink = document.createElement('div');\n",
              "        docLink.innerHTML = docLinkHtml;\n",
              "        element.appendChild(docLink);\n",
              "      }\n",
              "    </script>\n",
              "  </div>\n",
              "\n",
              "\n",
              "<div id=\"df-9059cbb8-8fce-4952-a808-0d5ed7af521a\">\n",
              "  <button class=\"colab-df-quickchart\" onclick=\"quickchart('df-9059cbb8-8fce-4952-a808-0d5ed7af521a')\"\n",
              "            title=\"Suggest charts\"\n",
              "            style=\"display:none;\">\n",
              "\n",
              "<svg xmlns=\"http://www.w3.org/2000/svg\" height=\"24px\"viewBox=\"0 0 24 24\"\n",
              "     width=\"24px\">\n",
              "    <g>\n",
              "        <path d=\"M19 3H5c-1.1 0-2 .9-2 2v14c0 1.1.9 2 2 2h14c1.1 0 2-.9 2-2V5c0-1.1-.9-2-2-2zM9 17H7v-7h2v7zm4 0h-2V7h2v10zm4 0h-2v-4h2v4z\"/>\n",
              "    </g>\n",
              "</svg>\n",
              "  </button>\n",
              "\n",
              "<style>\n",
              "  .colab-df-quickchart {\n",
              "      --bg-color: #E8F0FE;\n",
              "      --fill-color: #1967D2;\n",
              "      --hover-bg-color: #E2EBFA;\n",
              "      --hover-fill-color: #174EA6;\n",
              "      --disabled-fill-color: #AAA;\n",
              "      --disabled-bg-color: #DDD;\n",
              "  }\n",
              "\n",
              "  [theme=dark] .colab-df-quickchart {\n",
              "      --bg-color: #3B4455;\n",
              "      --fill-color: #D2E3FC;\n",
              "      --hover-bg-color: #434B5C;\n",
              "      --hover-fill-color: #FFFFFF;\n",
              "      --disabled-bg-color: #3B4455;\n",
              "      --disabled-fill-color: #666;\n",
              "  }\n",
              "\n",
              "  .colab-df-quickchart {\n",
              "    background-color: var(--bg-color);\n",
              "    border: none;\n",
              "    border-radius: 50%;\n",
              "    cursor: pointer;\n",
              "    display: none;\n",
              "    fill: var(--fill-color);\n",
              "    height: 32px;\n",
              "    padding: 0;\n",
              "    width: 32px;\n",
              "  }\n",
              "\n",
              "  .colab-df-quickchart:hover {\n",
              "    background-color: var(--hover-bg-color);\n",
              "    box-shadow: 0 1px 2px rgba(60, 64, 67, 0.3), 0 1px 3px 1px rgba(60, 64, 67, 0.15);\n",
              "    fill: var(--button-hover-fill-color);\n",
              "  }\n",
              "\n",
              "  .colab-df-quickchart-complete:disabled,\n",
              "  .colab-df-quickchart-complete:disabled:hover {\n",
              "    background-color: var(--disabled-bg-color);\n",
              "    fill: var(--disabled-fill-color);\n",
              "    box-shadow: none;\n",
              "  }\n",
              "\n",
              "  .colab-df-spinner {\n",
              "    border: 2px solid var(--fill-color);\n",
              "    border-color: transparent;\n",
              "    border-bottom-color: var(--fill-color);\n",
              "    animation:\n",
              "      spin 1s steps(1) infinite;\n",
              "  }\n",
              "\n",
              "  @keyframes spin {\n",
              "    0% {\n",
              "      border-color: transparent;\n",
              "      border-bottom-color: var(--fill-color);\n",
              "      border-left-color: var(--fill-color);\n",
              "    }\n",
              "    20% {\n",
              "      border-color: transparent;\n",
              "      border-left-color: var(--fill-color);\n",
              "      border-top-color: var(--fill-color);\n",
              "    }\n",
              "    30% {\n",
              "      border-color: transparent;\n",
              "      border-left-color: var(--fill-color);\n",
              "      border-top-color: var(--fill-color);\n",
              "      border-right-color: var(--fill-color);\n",
              "    }\n",
              "    40% {\n",
              "      border-color: transparent;\n",
              "      border-right-color: var(--fill-color);\n",
              "      border-top-color: var(--fill-color);\n",
              "    }\n",
              "    60% {\n",
              "      border-color: transparent;\n",
              "      border-right-color: var(--fill-color);\n",
              "    }\n",
              "    80% {\n",
              "      border-color: transparent;\n",
              "      border-right-color: var(--fill-color);\n",
              "      border-bottom-color: var(--fill-color);\n",
              "    }\n",
              "    90% {\n",
              "      border-color: transparent;\n",
              "      border-bottom-color: var(--fill-color);\n",
              "    }\n",
              "  }\n",
              "</style>\n",
              "\n",
              "  <script>\n",
              "    async function quickchart(key) {\n",
              "      const quickchartButtonEl =\n",
              "        document.querySelector('#' + key + ' button');\n",
              "      quickchartButtonEl.disabled = true;  // To prevent multiple clicks.\n",
              "      quickchartButtonEl.classList.add('colab-df-spinner');\n",
              "      try {\n",
              "        const charts = await google.colab.kernel.invokeFunction(\n",
              "            'suggestCharts', [key], {});\n",
              "      } catch (error) {\n",
              "        console.error('Error during call to suggestCharts:', error);\n",
              "      }\n",
              "      quickchartButtonEl.classList.remove('colab-df-spinner');\n",
              "      quickchartButtonEl.classList.add('colab-df-quickchart-complete');\n",
              "    }\n",
              "    (() => {\n",
              "      let quickchartButtonEl =\n",
              "        document.querySelector('#df-9059cbb8-8fce-4952-a808-0d5ed7af521a button');\n",
              "      quickchartButtonEl.style.display =\n",
              "        google.colab.kernel.accessAllowed ? 'block' : 'none';\n",
              "    })();\n",
              "  </script>\n",
              "</div>\n",
              "\n",
              "    </div>\n",
              "  </div>\n"
            ],
            "application/vnd.google.colaboratory.intrinsic+json": {
              "type": "dataframe",
              "variable_name": "df",
              "summary": "{\n  \"name\": \"df\",\n  \"rows\": 9900,\n  \"fields\": [\n    {\n      \"column\": \"headline\",\n      \"properties\": {\n        \"dtype\": \"string\",\n        \"num_unique_values\": 9820,\n        \"samples\": [\n          \"Ban calls Hasina, discusses city polls\",\n          \"Journalist Golam Faruque dies\",\n          \"Keraniganj highway blockade withdrawn\"\n        ],\n        \"semantic_type\": \"\",\n        \"description\": \"\"\n      }\n    },\n    {\n      \"column\": \"date\",\n      \"properties\": {\n        \"dtype\": \"number\",\n        \"std\": 14754831930,\n        \"min\": 1388674612000,\n        \"max\": 1444798374000,\n        \"num_unique_values\": 9899,\n        \"samples\": [\n          1438358143000,\n          1423988987000,\n          1418033982000\n        ],\n        \"semantic_type\": \"\",\n        \"description\": \"\"\n      }\n    },\n    {\n      \"column\": \"slug\",\n      \"properties\": {\n        \"dtype\": \"string\",\n        \"num_unique_values\": 9900,\n        \"samples\": [\n          \"bangladesh/AL-s-40-day-programme-on-Mujib\\u2019s-death-anniv\",\n          \"bangladesh/PM-asks-BNP-to-return-to-democratic-path\",\n          \"bangladesh/Govt-prepares-hard-line-against-opposition\"\n        ],\n        \"semantic_type\": \"\",\n        \"description\": \"\"\n      }\n    },\n    {\n      \"column\": \"url\",\n      \"properties\": {\n        \"dtype\": \"string\",\n        \"num_unique_values\": 9900,\n        \"samples\": [\n          \"https://en.prothomalo.com/bangladesh/AL-s-40-day-programme-on-Mujib\\u2019s-death-anniv\",\n          \"https://en.prothomalo.com/bangladesh/PM-asks-BNP-to-return-to-democratic-path\",\n          \"https://en.prothomalo.com/bangladesh/Govt-prepares-hard-line-against-opposition\"\n        ],\n        \"semantic_type\": \"\",\n        \"description\": \"\"\n      }\n    },\n    {\n      \"column\": \"full_content\",\n      \"properties\": {\n        \"dtype\": \"string\",\n        \"num_unique_values\": 9892,\n        \"samples\": [\n          \"The Permanent Court of Arbitration (PCA) at The Hague in Netherlands is likely to give its verdict within this month over the Bangladesh-India maritime boundary dispute.\\nSecretary of the Maritime Affairs Unit at the Ministry of Foreign Affairs Khurshed Alam said the specific date of the announcement of verdict was not fixed yet.\\n\\\"But the proceedings of the case have been prepared and it was set that the verdict will be announced in June 2014,\\u201d he told UNB on Wednesday.\\nAlam, who is dealing with the maritime boundary issue for last few years, informed that the Court is yet to inform Bangladesh about the date of announcement of its verdict.\\nBangladesh and neighbouring India have been locked in the maritime boundary disputes over 10 gas blocks in the Bay of Bengal.\\nBoth the nations have been claiming the area as their own.\\nAgainst the Indian claim, Bangladesh lodged its own claim with the UNCLOS in 2009 and the final hearing of the both sides took place in the Permanent Court of Arbitration (PCA) in the Hague in Netherlands in December last year.\\nThe hearing of the case was held at the Permanent Court of Arbitration (PCA) in Netherlands from December 9-18, 2013 with former Foreign Minister Dr Dipu Moni and a team of lawyers appointed by Bangladesh taking part.\\nKhurshed Alam said Bangladesh has made its claim on its maritime area on the basis of \\u2018equitable\\u2019 sharing while India has made its claim on the basis of \\u2018equidistance\\u2019.\\nBangladesh is very hopeful of wining the verdict in its favour, he added.\\nOver the course of the hearing, both the parties have presented their position on certain key issues relating to the maritime boundary between\\u00a0 the two States, including the\\u00a0 location of the land boundary terminus\\u00a0 between them, the delimitation of the Territorial Sea, the Exclusive Economic Zone, and the Continental Shelf within and beyond 200 nautical miles.\\nOn October 8, 2009, Bangladesh instituted arbitral proceedings over the delimitation of the maritime boundary between Bangladesh and India pursuant to article 287 and Annex VII, Article 1 of the United Nations Convention on the Law of the Sea (UNCLOS).\\nThe Permanent Court of Arbitration (PCA) acts as registry in this arbitration.\\nEarlier, Bangladesh won a landmark verdict against Myanmar on March 14, 2012 at the ITLOS and through the verdict, Bangladesh sustained its claim to the 200 nautical mile exclusive economic and territorial rights in the Bay of Bengal.\\nBefore the hearing, Bangladesh submitted the required papers to lay its claim to territorial waters, Exclusive Economic Zone up to 200 nautical miles and Continental Shelf up to 350 nautical miles from the baseline. The PCA has fixed July 31 this year to hear India\\u2019s rejoinder on this issue.\\nThe maritime boundary between India and Bangladesh is not delineated. Both the countries co-occupy 180 km of a maritime borderline.\\nThere have always been claims and counter-claims and overlapping claims. The issue came to a head after India discovered huge hydrocarbon deposits in the Bay of Bengal.\\nFollow the Google news channel to get Prothom Alo's latest news\",\n          \"Hasanul Haq Inu. File Photo\\nInformation minister Hasanul Haq Inu held BNP chairperson Khaleda Zia responsible for arsoning, saying hunger for power has made her unable to fathom the pain of arson victims.\\n\\\"You understand only power. But don't you feel the pain of the burn victims fighting for their lives?\\\" said the minister.\\nHe added, \\\"This is as clear as daylight that Khaleda Zia is patronising the arsonists.\\\"\\nHe termed the BNP chief as the accomplice of the Razakar of 1971, the killers of 1975, mastermind of the grenade attacks in August 21, saying, \\\"The countrymen will defeat her eventually.\\\"\\nHe also said the religious preachers are the conscience of the society.\\nHe was speaking at the 150th birth anniversary of the Buddhist religious preacher Kripa Sharan Mohasthabir in Dharmarajika Buddhist Monastery in city's Bashabo area, says a press release.\\nFollow the Google news channel to get Prothom Alo's latest news\",\n          \"The Anti Corruption Commission (ACC) on Thursday held an upazila engineer red-handed at his office in Rampal upazila of Bagerhat while taking bribe from the proprietor of a construction firm.\\nA team of ACC Khulna regional office, led by its director AKM Jayed Hossain Khan, went to LGED local office in Rampal at about 12:30pm and arrested upazila engineer M Nuruzzaman who was taking Tk 20,000, allegedly bribe money, from one Rainbow Enterprise proprietor Golam Azam who had earlier informed ACC about Nuruzzaman's demand of bribe, said ACC public relations officer Pranab Kumar Bhattacharya.\\nIt was understood that Rainbow Enterprise had completed a development project in Rampal and when its proprietor Golam Azam went to LGED local office to withdraw the security money of Tk\\u00a02 lakh, Nuruzzaman demanded Tk\\u00a050,000 for releasing it.\\nFollow the Google news channel to get Prothom Alo's latest news\"\n        ],\n        \"semantic_type\": \"\",\n        \"description\": \"\"\n      }\n    }\n  ]\n}"
            }
          },
          "metadata": {},
          "execution_count": 63
        }
      ]
    },
    {
      "cell_type": "code",
      "source": [
        "df['date'] = pd.to_datetime(df['date'], unit='ms')\n",
        "df['year'] = df['date'].dt.year\n",
        "df['year'].iloc[0]"
      ],
      "metadata": {
        "colab": {
          "base_uri": "https://localhost:8080/"
        },
        "outputId": "f2d87e57-e26f-4c30-d1be-bf1038527baa",
        "id": "lOqMOh3kEnGZ"
      },
      "execution_count": 64,
      "outputs": [
        {
          "output_type": "execute_result",
          "data": {
            "text/plain": [
              "2014"
            ]
          },
          "metadata": {},
          "execution_count": 64
        }
      ]
    },
    {
      "cell_type": "code",
      "source": [
        "df_sorted = df.sort_values(by='year')\n",
        "print(df_sorted.head())"
      ],
      "metadata": {
        "colab": {
          "base_uri": "https://localhost:8080/"
        },
        "outputId": "a94e18c6-7b4f-475e-8222-63aa93e3abdd",
        "id": "fJd279J-FSyf"
      },
      "execution_count": 68,
      "outputs": [
        {
          "output_type": "stream",
          "name": "stdout",
          "text": [
            "                                             headline                date  \\\n",
            "35                     Boy burnt to death in Ctg fire 2014-01-22 16:04:13   \n",
            "36                    Blankets distributed in Rangpur 2014-01-22 16:06:03   \n",
            "37               Manjur murder case verdict on Feb 10 2014-01-22 16:07:08   \n",
            "38  Six govt projects singled out for top priority... 2014-01-22 16:08:48   \n",
            "39                        Woman found dead in Jessore 2014-01-25 12:14:43   \n",
            "\n",
            "                                                 slug  \\\n",
            "35          bangladesh/Boy-burnt-to-death-in-Ctg-fire   \n",
            "36         bangladesh/Blankets-distributed-in-Rangpur   \n",
            "37    bangladesh/Manjur-murder-case-verdict-on-Feb-10   \n",
            "38  bangladesh/Six-govt-projects-singled-out-for-t...   \n",
            "39             bangladesh/Woman-found-dead-in-Jessore   \n",
            "\n",
            "                                                  url  \\\n",
            "35  https://en.prothomalo.com/bangladesh/Boy-burnt...   \n",
            "36  https://en.prothomalo.com/bangladesh/Blankets-...   \n",
            "37  https://en.prothomalo.com/bangladesh/Manjur-mu...   \n",
            "38  https://en.prothomalo.com/bangladesh/Six-govt-...   \n",
            "39  https://en.prothomalo.com/bangladesh/Woman-fou...   \n",
            "\n",
            "                                         full_content  year  \n",
            "35  Boy burnt to death in Chittagong fire. Photo: ...  2014  \n",
            "36  DMCCI and RCCI distributed blankets among peop...  2014  \n",
            "37  A Dhaka court on Wednesday fixed February 10 f...  2014  \n",
            "38  The government on Wednesday singled out six fa...  2014  \n",
            "39  Body of a woman was recovered from a pond at S...  2014  \n"
          ]
        }
      ]
    },
    {
      "cell_type": "code",
      "source": [
        "df['full_content']= df['full_content'].str.replace('\\n', ' ', regex=False)"
      ],
      "metadata": {
        "id": "hS6GsbgL80Xj"
      },
      "execution_count": 69,
      "outputs": []
    },
    {
      "cell_type": "code",
      "source": [
        "df['text'] = df['headline'] + ' ' + df['full_content']\n",
        "df['text']"
      ],
      "metadata": {
        "colab": {
          "base_uri": "https://localhost:8080/",
          "height": 458
        },
        "id": "kCyOnFxd_QOq",
        "outputId": "b11d21ec-4e44-4721-907c-c6c5b4b70a1b"
      },
      "execution_count": 70,
      "outputs": [
        {
          "output_type": "execute_result",
          "data": {
            "text/plain": [
              "0       Stray incidents of violence mark 2nd day non-s...\n",
              "1       Mawa-Kawrakandi ferry link resumes after 5 hou...\n",
              "2       Joint forces detain 30 in Ctg Different teams ...\n",
              "3       Army organises eye camp in Faridpur The ninth ...\n",
              "4       Tarique's video message urges people to boycot...\n",
              "                              ...                        \n",
              "9895    2 drops of water don’t mean rainfall: Russia R...\n",
              "9896    Tavella’s body to be sent to Italy Wednesday C...\n",
              "9897    Foreign nationals’ killers to be tried: PM Pri...\n",
              "9898    BNP leader Tipu comes under attack BNP's assis...\n",
              "9899    Kidney trade booms as donors turn brokers In t...\n",
              "Name: text, Length: 9900, dtype: object"
            ],
            "text/html": [
              "<div>\n",
              "<style scoped>\n",
              "    .dataframe tbody tr th:only-of-type {\n",
              "        vertical-align: middle;\n",
              "    }\n",
              "\n",
              "    .dataframe tbody tr th {\n",
              "        vertical-align: top;\n",
              "    }\n",
              "\n",
              "    .dataframe thead th {\n",
              "        text-align: right;\n",
              "    }\n",
              "</style>\n",
              "<table border=\"1\" class=\"dataframe\">\n",
              "  <thead>\n",
              "    <tr style=\"text-align: right;\">\n",
              "      <th></th>\n",
              "      <th>text</th>\n",
              "    </tr>\n",
              "  </thead>\n",
              "  <tbody>\n",
              "    <tr>\n",
              "      <th>0</th>\n",
              "      <td>Stray incidents of violence mark 2nd day non-s...</td>\n",
              "    </tr>\n",
              "    <tr>\n",
              "      <th>1</th>\n",
              "      <td>Mawa-Kawrakandi ferry link resumes after 5 hou...</td>\n",
              "    </tr>\n",
              "    <tr>\n",
              "      <th>2</th>\n",
              "      <td>Joint forces detain 30 in Ctg Different teams ...</td>\n",
              "    </tr>\n",
              "    <tr>\n",
              "      <th>3</th>\n",
              "      <td>Army organises eye camp in Faridpur The ninth ...</td>\n",
              "    </tr>\n",
              "    <tr>\n",
              "      <th>4</th>\n",
              "      <td>Tarique's video message urges people to boycot...</td>\n",
              "    </tr>\n",
              "    <tr>\n",
              "      <th>...</th>\n",
              "      <td>...</td>\n",
              "    </tr>\n",
              "    <tr>\n",
              "      <th>9895</th>\n",
              "      <td>2 drops of water don’t mean rainfall: Russia R...</td>\n",
              "    </tr>\n",
              "    <tr>\n",
              "      <th>9896</th>\n",
              "      <td>Tavella’s body to be sent to Italy Wednesday C...</td>\n",
              "    </tr>\n",
              "    <tr>\n",
              "      <th>9897</th>\n",
              "      <td>Foreign nationals’ killers to be tried: PM Pri...</td>\n",
              "    </tr>\n",
              "    <tr>\n",
              "      <th>9898</th>\n",
              "      <td>BNP leader Tipu comes under attack BNP's assis...</td>\n",
              "    </tr>\n",
              "    <tr>\n",
              "      <th>9899</th>\n",
              "      <td>Kidney trade booms as donors turn brokers In t...</td>\n",
              "    </tr>\n",
              "  </tbody>\n",
              "</table>\n",
              "<p>9900 rows × 1 columns</p>\n",
              "</div><br><label><b>dtype:</b> object</label>"
            ]
          },
          "metadata": {},
          "execution_count": 70
        }
      ]
    },
    {
      "cell_type": "code",
      "source": [
        "df = df.dropna(subset=['text'])"
      ],
      "metadata": {
        "id": "pIluIgABALi7"
      },
      "execution_count": 71,
      "outputs": []
    },
    {
      "cell_type": "code",
      "source": [
        "df.iloc[0]['text']"
      ],
      "metadata": {
        "colab": {
          "base_uri": "https://localhost:8080/",
          "height": 174
        },
        "id": "CHAhrm83AR8V",
        "outputId": "4822b60b-d654-4185-9b09-d50c82c7cff5"
      },
      "execution_count": 72,
      "outputs": [
        {
          "output_type": "execute_result",
          "data": {
            "text/plain": [
              "\"Stray incidents of violence mark 2nd day non-stop blockade The second day of the indefinite blockade, enforced by the BNP-led 18-Party Alliance, continues amid stray incidents of violence on Thursady.  Called for resisting the January 5 'one-sided' parliamentary polls, the blockade programme will continue until further announcement, as declared by the party.  In the capital, blockaders blasted 2-3 crude bombs on the Topkhana road in Shahbag area at about 8:40am. However, none was injured in the explosion.  Miscreants near Sony Cinema in Mirpur-2 torched a Pallabi Super Service bus commuting the Gulistan-Pallabi route at about 9:35am. Firefighters came in and doused the flames.  Rickshaws and auto-rickshaws were dominating the city streets. Presence of public transport on the city streets was higher than the first day of the blockade although no long-route bus entered or left the city. In Gazipur, three people sustained burn injuries as blockaders set fire to a truck by hurling a petrol bomb at Shafipur in Kaliakoir upazila Wednesday night. In Natore, blockaders set tyres on fire on the Harishpur Bypass Road and in Station Bazaar area of the town in the morning. Meanwhile, a vegetable vendor Mofazzal Hossain got injury as blockaders hurled brickbats into a truck he was in at Dighapatia in the town Wednesday night. In Satkhira, blockaders torched a truck near Bhomra port in Sadar upazila at about 11:00pm Wednesday. The first day of the blockade passed off amid incidents of violence, leaving a Jubo Dal man dead in BGB firing at Chandpur on Wednesday. The opposition alliance has been on tough agitation programmes since 25 November last year when the Election Commission fixed January 5 as the polling date.  Demanding the polls to be rescheduled ensuring the participation of all parties and under a non-party interim government, the opposition alliance has already enforced countrywide road-rail-waterways blockade for 22 days in five spells since November 26 last year, which left at least 120 people dead. Follow the Google news channel to get Prothom Alo's latest news\""
            ],
            "application/vnd.google.colaboratory.intrinsic+json": {
              "type": "string"
            }
          },
          "metadata": {},
          "execution_count": 72
        }
      ]
    },
    {
      "cell_type": "code",
      "source": [
        "import nltk\n",
        "from nltk.corpus import stopwords\n",
        "from nltk.tokenize import word_tokenize\n",
        "from nltk.stem import PorterStemmer\n",
        "import string\n",
        "\n",
        "nltk.download('punkt')\n",
        "nltk.download('stopwords')"
      ],
      "metadata": {
        "colab": {
          "base_uri": "https://localhost:8080/"
        },
        "id": "E5OrJnsyAUSq",
        "outputId": "4df91621-1b64-42b7-f57f-cd3fa382ddf1"
      },
      "execution_count": 73,
      "outputs": [
        {
          "output_type": "stream",
          "name": "stderr",
          "text": [
            "[nltk_data] Downloading package punkt to /root/nltk_data...\n",
            "[nltk_data]   Package punkt is already up-to-date!\n",
            "[nltk_data] Downloading package stopwords to /root/nltk_data...\n",
            "[nltk_data]   Package stopwords is already up-to-date!\n"
          ]
        },
        {
          "output_type": "execute_result",
          "data": {
            "text/plain": [
              "True"
            ]
          },
          "metadata": {},
          "execution_count": 73
        }
      ]
    },
    {
      "cell_type": "code",
      "source": [
        "def preprocess_text(text):\n",
        "    tokens = word_tokenize(text)\n",
        "    tokens = [word.lower() for word in tokens]\n",
        "    tokens = [word for word in tokens if word.isalnum()]\n",
        "    tokens = [word for word in tokens if word not in stopwords.words('english')]\n",
        "    stemmer = PorterStemmer()\n",
        "    tokens = [stemmer.stem(word) for word in tokens]\n",
        "    return ' '.join(tokens)\n"
      ],
      "metadata": {
        "id": "V968YJ95Akad"
      },
      "execution_count": 74,
      "outputs": []
    },
    {
      "cell_type": "code",
      "source": [
        "df['cleaned_text'] = df['text'].apply(preprocess_text)\n"
      ],
      "metadata": {
        "id": "3437R8FxAws0"
      },
      "execution_count": 75,
      "outputs": []
    },
    {
      "cell_type": "code",
      "source": [
        "df.iloc[0]['cleaned_text']\n"
      ],
      "metadata": {
        "colab": {
          "base_uri": "https://localhost:8080/",
          "height": 174
        },
        "id": "CzgABO00Bpxo",
        "outputId": "90097d90-c724-4ae7-e18d-b5cb0867f310"
      },
      "execution_count": 77,
      "outputs": [
        {
          "output_type": "execute_result",
          "data": {
            "text/plain": [
              "'stray incid violenc mark 2nd day blockad second day indefinit blockad enforc allianc continu amid stray incid violenc thursadi call resist januari 5 parliamentari poll blockad programm continu announc declar parti capit blockad blast crude bomb topkhana road shahbag area howev none injur explos miscreant near soni cinema torch pallabi super servic bu commut rout firefight came dous flame rickshaw domin citi street presenc public transport citi street higher first day blockad although bu enter left citi gazipur three peopl sustain burn injuri blockad set fire truck hurl petrol bomb shafipur kaliakoir upazila wednesday night nator blockad set tyre fire harishpur bypass road station bazaar area town morn meanwhil veget vendor mofazz hossain got injuri blockad hurl brickbat truck dighapatia town wednesday night satkhira blockad torch truck near bhomra port sadar upazila wednesday first day blockad pass amid incid violenc leav jubo dal man dead bgb fire chandpur wednesday opposit allianc tough agit programm sinc 25 novemb last year elect commiss fix januari 5 poll date demand poll reschedul ensur particip parti interim govern opposit allianc alreadi enforc countrywid blockad 22 day five spell sinc novemb 26 last year left least 120 peopl dead follow googl news channel get prothom alo latest news'"
            ],
            "application/vnd.google.colaboratory.intrinsic+json": {
              "type": "string"
            }
          },
          "metadata": {},
          "execution_count": 77
        }
      ]
    },
    {
      "cell_type": "code",
      "source": [
        "from transformers import pipeline\n",
        "\n",
        "# Load the sentiment analysis pipeline\n",
        "sentiment_analyzer = pipeline('sentiment-analysis',device=0)\n"
      ],
      "metadata": {
        "colab": {
          "base_uri": "https://localhost:8080/"
        },
        "outputId": "21c27069-3ea8-4535-cd82-c22c0af084e1",
        "id": "frI59HU3LBcC"
      },
      "execution_count": 82,
      "outputs": [
        {
          "output_type": "stream",
          "name": "stderr",
          "text": [
            "No model was supplied, defaulted to distilbert/distilbert-base-uncased-finetuned-sst-2-english and revision af0f99b (https://huggingface.co/distilbert/distilbert-base-uncased-finetuned-sst-2-english).\n",
            "Using a pipeline without specifying a model name and revision in production is not recommended.\n"
          ]
        }
      ]
    },
    {
      "cell_type": "code",
      "source": [
        "from transformers import DistilBertTokenizer\n",
        "\n",
        "tokenizer = DistilBertTokenizer.from_pretrained('distilbert-base-uncased')\n",
        "\n",
        "def truncate_text(text, max_length=512):\n",
        "    tokens = tokenizer.encode(text, truncation=True, max_length=max_length, return_tensors='pt')\n",
        "    return tokenizer.decode(tokens[0], skip_special_tokens=True)\n",
        "\n",
        "# Apply truncation to the text\n",
        "df['cleaned_text'] = df['cleaned_text'].apply(lambda x: truncate_text(x))\n"
      ],
      "metadata": {
        "colab": {
          "base_uri": "https://localhost:8080/",
          "height": 145,
          "referenced_widgets": [
            "cfec37788d0746d6a8cc19a7b9306ef6",
            "54f3a58f40fa4423bd713f6419a4705d",
            "e36e1d42171041f1ae754ee9e3615c44",
            "619724bfdf554b4dac8afb099789dc1c",
            "6849d5381f4f44ac8567874b5cd75c27",
            "80997ed6adfa43ac93c8a664c6a62b9a",
            "13de0eb86e8e491587de35108fc22d71",
            "29c2ba31a1d243a3a99385a4ae2e12b4",
            "f5f78908e30e4f929975a5470831518f",
            "529dd1ca5c5a44b19e635c45146e76a8",
            "7fb76b41762545399419bae59c41c797",
            "948712c47c32423789b5b11a300b6407",
            "7e0f295bf84c4fedb37b073629f1f96a",
            "0ab6f6b75bae4503a7aa845d2c536e38",
            "446be8ac40b3405b8c394aad8af5c71f",
            "7b0ce232fc0d4e9b8a891fe1fd93c6f2",
            "7cb4dc8419714213a8cd3dc30534f03f",
            "851443facda54e1db64b6a6a7054c931",
            "3225ac650f13478192da14efb671632d",
            "14e16a9a6c24433c917417bdebe11f13",
            "caa2c4fc74e5478b89447ff79e60992c",
            "efd266132f804c2cbb0f7d9b5b15b583",
            "a55f1a9c2210441aa4403d6433ea7016",
            "1e0d446559454426bb25b1bc1e109aac",
            "35b0dfec5abe442cbf8e2b39c3b66636",
            "9993cb9bdf65454f8bd5f481c1bf272f",
            "59fffe6877e24582b5f98e89832bc052",
            "537fb0aff5fa4d2399c879fb9fa0aea5",
            "05d31d5dd5c64337a3aa0de98a5f0df5",
            "9bd3e3927f1645c490d0adb0c22e1679",
            "9f01427bcf214f5fa39d7a5742d165ba",
            "22f5958b1c0343f7a616ac1253ea51a3",
            "1bbb0c59449b43218a5e60c94fb9ba36",
            "827be88a192b4d2eac9da452565a4911",
            "16224d3671b446c4b9455243065055fd",
            "341ea0be19234d89b5e9a55b6fd0edb0",
            "f6ec0a749f5c48028a75d2dfbf89ea1d",
            "b75b5ca89dc24cf0b7139c19d1b6bf8a",
            "c2c8dfecb1e64b5ab1a9cbd582a207db",
            "eb61026bf8c94e779e2585e4b214c8d6",
            "0ed7eda6f0634fb584ebd5e24413ec08",
            "94efa1bd015a416f91a1743f95a30886",
            "c8d489eadde6424da210552923bb3348",
            "649a628d4868405f97ea02f1c2f1eedf"
          ]
        },
        "outputId": "0e7b1756-70c9-4859-c5a8-f1487190c94a",
        "id": "Ynw1-SNMMRkU"
      },
      "execution_count": 84,
      "outputs": [
        {
          "output_type": "display_data",
          "data": {
            "text/plain": [
              "tokenizer_config.json:   0%|          | 0.00/48.0 [00:00<?, ?B/s]"
            ],
            "application/vnd.jupyter.widget-view+json": {
              "version_major": 2,
              "version_minor": 0,
              "model_id": "cfec37788d0746d6a8cc19a7b9306ef6"
            }
          },
          "metadata": {}
        },
        {
          "output_type": "display_data",
          "data": {
            "text/plain": [
              "vocab.txt:   0%|          | 0.00/232k [00:00<?, ?B/s]"
            ],
            "application/vnd.jupyter.widget-view+json": {
              "version_major": 2,
              "version_minor": 0,
              "model_id": "948712c47c32423789b5b11a300b6407"
            }
          },
          "metadata": {}
        },
        {
          "output_type": "display_data",
          "data": {
            "text/plain": [
              "tokenizer.json:   0%|          | 0.00/466k [00:00<?, ?B/s]"
            ],
            "application/vnd.jupyter.widget-view+json": {
              "version_major": 2,
              "version_minor": 0,
              "model_id": "a55f1a9c2210441aa4403d6433ea7016"
            }
          },
          "metadata": {}
        },
        {
          "output_type": "display_data",
          "data": {
            "text/plain": [
              "config.json:   0%|          | 0.00/483 [00:00<?, ?B/s]"
            ],
            "application/vnd.jupyter.widget-view+json": {
              "version_major": 2,
              "version_minor": 0,
              "model_id": "827be88a192b4d2eac9da452565a4911"
            }
          },
          "metadata": {}
        }
      ]
    },
    {
      "cell_type": "code",
      "source": [
        "# Apply sentiment analysis\n",
        "df['sentiment'] = df['cleaned_text'].apply(lambda x: sentiment_analyzer(x)[0]['label'])\n",
        "df['sentiment']\n"
      ],
      "metadata": {
        "colab": {
          "base_uri": "https://localhost:8080/",
          "height": 458
        },
        "outputId": "fb15c67c-544b-48f3-972d-d7f9776cc657",
        "id": "7dSsJmaZNXqA"
      },
      "execution_count": 86,
      "outputs": [
        {
          "output_type": "execute_result",
          "data": {
            "text/plain": [
              "0       NEGATIVE\n",
              "1       NEGATIVE\n",
              "2       NEGATIVE\n",
              "3       NEGATIVE\n",
              "4       NEGATIVE\n",
              "          ...   \n",
              "9895    NEGATIVE\n",
              "9896    NEGATIVE\n",
              "9897    NEGATIVE\n",
              "9898    NEGATIVE\n",
              "9899    NEGATIVE\n",
              "Name: sentiment, Length: 9900, dtype: object"
            ],
            "text/html": [
              "<div>\n",
              "<style scoped>\n",
              "    .dataframe tbody tr th:only-of-type {\n",
              "        vertical-align: middle;\n",
              "    }\n",
              "\n",
              "    .dataframe tbody tr th {\n",
              "        vertical-align: top;\n",
              "    }\n",
              "\n",
              "    .dataframe thead th {\n",
              "        text-align: right;\n",
              "    }\n",
              "</style>\n",
              "<table border=\"1\" class=\"dataframe\">\n",
              "  <thead>\n",
              "    <tr style=\"text-align: right;\">\n",
              "      <th></th>\n",
              "      <th>sentiment</th>\n",
              "    </tr>\n",
              "  </thead>\n",
              "  <tbody>\n",
              "    <tr>\n",
              "      <th>0</th>\n",
              "      <td>NEGATIVE</td>\n",
              "    </tr>\n",
              "    <tr>\n",
              "      <th>1</th>\n",
              "      <td>NEGATIVE</td>\n",
              "    </tr>\n",
              "    <tr>\n",
              "      <th>2</th>\n",
              "      <td>NEGATIVE</td>\n",
              "    </tr>\n",
              "    <tr>\n",
              "      <th>3</th>\n",
              "      <td>NEGATIVE</td>\n",
              "    </tr>\n",
              "    <tr>\n",
              "      <th>4</th>\n",
              "      <td>NEGATIVE</td>\n",
              "    </tr>\n",
              "    <tr>\n",
              "      <th>...</th>\n",
              "      <td>...</td>\n",
              "    </tr>\n",
              "    <tr>\n",
              "      <th>9895</th>\n",
              "      <td>NEGATIVE</td>\n",
              "    </tr>\n",
              "    <tr>\n",
              "      <th>9896</th>\n",
              "      <td>NEGATIVE</td>\n",
              "    </tr>\n",
              "    <tr>\n",
              "      <th>9897</th>\n",
              "      <td>NEGATIVE</td>\n",
              "    </tr>\n",
              "    <tr>\n",
              "      <th>9898</th>\n",
              "      <td>NEGATIVE</td>\n",
              "    </tr>\n",
              "    <tr>\n",
              "      <th>9899</th>\n",
              "      <td>NEGATIVE</td>\n",
              "    </tr>\n",
              "  </tbody>\n",
              "</table>\n",
              "<p>9900 rows × 1 columns</p>\n",
              "</div><br><label><b>dtype:</b> object</label>"
            ]
          },
          "metadata": {},
          "execution_count": 86
        }
      ]
    },
    {
      "cell_type": "code",
      "source": [
        "# Check the distribution of sentiment labels\n",
        "print(df['sentiment'].value_counts())\n"
      ],
      "metadata": {
        "colab": {
          "base_uri": "https://localhost:8080/"
        },
        "outputId": "fd013cf1-586b-4a86-f36a-ac76ed86274b",
        "id": "jKs6D89-PqhW"
      },
      "execution_count": 88,
      "outputs": [
        {
          "output_type": "stream",
          "name": "stdout",
          "text": [
            "sentiment\n",
            "NEGATIVE    9880\n",
            "POSITIVE      20\n",
            "Name: count, dtype: int64\n"
          ]
        }
      ]
    },
    {
      "cell_type": "code",
      "source": [
        "# Display some samples\n",
        "print(df[['cleaned_text', 'sentiment']].head(10))"
      ],
      "metadata": {
        "colab": {
          "base_uri": "https://localhost:8080/"
        },
        "id": "6nqBmhrOPssx",
        "outputId": "3a5ffd01-f305-45f9-af43-29bf56a90c29"
      },
      "execution_count": 91,
      "outputs": [
        {
          "output_type": "stream",
          "name": "stdout",
          "text": [
            "                                        cleaned_text sentiment\n",
            "0  stray incid violenc mark 2nd day blockad secon...  NEGATIVE\n",
            "1  ferri link resum 5 hour ferri servic rout resu...  NEGATIVE\n",
            "2  joint forc detain 30 ctg differ team joint for...  NEGATIVE\n",
            "3  armi organis eye camp faridpur ninth infantri ...  NEGATIVE\n",
            "4  tariqu video messag urg peopl boycott elect bn...  NEGATIVE\n",
            "5  cec hope peac elect cec kazi rakibuddin ahmad ...  NEGATIVE\n",
            "6  bomb attack polic rajshahi attack polic polic ...  NEGATIVE\n",
            "7  nator train attack leav 14 hurt suspect opposi...  NEGATIVE\n",
            "8  bangladesh inflat quicken polit turmoil mount ...  NEGATIVE\n",
            "9  poll 10 parliamentari elect hitherto garner pe...  NEGATIVE\n"
          ]
        }
      ]
    },
    {
      "cell_type": "code",
      "source": [
        "sentiment_by_year = df.groupby('year')['sentiment'].value_counts().unstack().fillna(0)\n",
        "sentiment_by_year['total'] = sentiment_by_year.sum(axis=1)\n",
        "sentiment_by_year['positive_percentage'] = (sentiment_by_year['POSITIVE'] / sentiment_by_year['total']) * 100\n",
        "sentiment_by_year['negative_percentage'] = (sentiment_by_year['NEGATIVE'] / sentiment_by_year['total']) * 100\n",
        "\n",
        "print(sentiment_by_year)\n"
      ],
      "metadata": {
        "colab": {
          "base_uri": "https://localhost:8080/"
        },
        "id": "8ZDd-oO3P0C_",
        "outputId": "96057e49-6379-49ce-c6b7-2386a6291071"
      },
      "execution_count": 95,
      "outputs": [
        {
          "output_type": "stream",
          "name": "stdout",
          "text": [
            "sentiment  NEGATIVE  POSITIVE  total  positive_percentage  negative_percentage\n",
            "year                                                                          \n",
            "2014           5045        12   5057             0.237295            99.762705\n",
            "2015           4835         8   4843             0.165187            99.834813\n"
          ]
        }
      ]
    },
    {
      "cell_type": "code",
      "source": [
        "import matplotlib.pyplot as plt\n",
        "\n",
        "# Plot sentiment counts by year\n",
        "plt.figure(figsize=(12, 6))\n",
        "sentiment_by_year[['POSITIVE', 'NEGATIVE']].plot(kind='bar', stacked=True)\n",
        "plt.title('Sentiment Distribution Over Years')\n",
        "plt.xlabel('Year')\n",
        "plt.ylabel('Number of Articles')\n",
        "plt.legend(title='Sentiment')\n",
        "plt.show()"
      ],
      "metadata": {
        "colab": {
          "base_uri": "https://localhost:8080/",
          "height": 510
        },
        "id": "7fr9CrusQTSy",
        "outputId": "982fd214-10c3-4fb9-ce65-9ff5a9a968f3"
      },
      "execution_count": 97,
      "outputs": [
        {
          "output_type": "display_data",
          "data": {
            "text/plain": [
              "<Figure size 1200x600 with 0 Axes>"
            ]
          },
          "metadata": {}
        },
        {
          "output_type": "display_data",
          "data": {
            "text/plain": [
              "<Figure size 640x480 with 1 Axes>"
            ],
            "image/png": "[encoded data removed]"
          },
          "metadata": {}
        }
      ]
    },
    {
      "cell_type": "code",
      "source": [
        "import seaborn as sns\n",
        "\n",
        "# Plot sentiment percentages by year\n",
        "plt.figure(figsize=(12, 6))\n",
        "sns.lineplot(data=sentiment_by_year[['positive_percentage', 'negative_percentage']])\n",
        "plt.title('Sentiment Percentages Over Years')\n",
        "plt.xlabel('Year')\n",
        "plt.ylabel('Percentage')\n",
        "plt.legend(title='Sentiment')\n",
        "plt.show()"
      ],
      "metadata": {
        "colab": {
          "base_uri": "https://localhost:8080/",
          "height": 540
        },
        "id": "dBHo2UlqRl0i",
        "outputId": "0359b8db-bb46-46d3-ebc8-aff490ce9a45"
      },
      "execution_count": 99,
      "outputs": [
        {
          "output_type": "display_data",
          "data": {
            "text/plain": [
              "<Figure size 1200x600 with 1 Axes>"
            ],
            "image/png": "[encoded data removed]"
          },
          "metadata": {}
        }
      ]
    },
    {
      "cell_type": "code",
      "source": [
        "from sklearn.feature_extraction.text import CountVectorizer\n",
        "from sklearn.decomposition import LatentDirichletAllocation\n",
        "\n",
        "# Vectorize the cleaned text\n",
        "vectorizer = CountVectorizer(stop_words='english')\n",
        "X = vectorizer.fit_transform(df['full_content'])\n",
        "\n",
        "# Apply LDA\n",
        "lda = LatentDirichletAllocation(n_components=5, random_state=42)\n",
        "lda.fit(X)\n",
        "\n",
        "# Display topics\n",
        "for index, topic in enumerate(lda.components_):\n",
        "    print(f\"Topic {index}:\")\n",
        "    print([vectorizer.get_feature_names_out()[i] for i in topic.argsort()[-10:]])"
      ],
      "metadata": {
        "colab": {
          "base_uri": "https://localhost:8080/"
        },
        "id": "cwQd31crRwd-",
        "outputId": "abf6fef4-2050-42af-dadf-b69e50d8c892"
      },
      "execution_count": 101,
      "outputs": [
        {
          "output_type": "stream",
          "name": "stdout",
          "text": [
            "Topic 0:\n",
            "['latest', 'channel', 'follow', 'city', 'prothom', 'alo', 'police', 'dhaka', 'news', 'said']\n",
            "Topic 1:\n",
            "['year', 'workers', 'ministry', 'prothom', 'alo', 'government', 'bangladesh', 'tk', 'news', 'said']\n",
            "Topic 2:\n",
            "['people', 'country', 'sheikh', 'government', 'hasina', 'news', 'prime', 'said', 'minister', 'bangladesh']\n",
            "Topic 3:\n",
            "['khaleda', 'leaders', 'prothom', 'alo', 'league', 'government', 'news', 'party', 'said', 'bnp']\n",
            "Topic 4:\n",
            "['follow', 'latest', 'google', 'channel', 'court', 'prothom', 'alo', 'said', 'news', 'police']\n"
          ]
        }
      ]
    },
    {
      "cell_type": "code",
      "source": [
        "import seaborn as sns\n",
        "\n",
        "# Pivot the data for heatmap\n",
        "heatmap_data = df.pivot_table(index='year', columns='sentiment', aggfunc='size', fill_value=0)\n",
        "\n",
        "plt.figure(figsize=(10, 8))\n",
        "sns.heatmap(heatmap_data, annot=True, cmap='coolwarm', fmt='d')\n",
        "plt.title('Sentiment Heatmap by Year')\n",
        "plt.xlabel('Sentiment')\n",
        "plt.ylabel('Year')\n",
        "plt.show()"
      ],
      "metadata": {
        "colab": {
          "base_uri": "https://localhost:8080/",
          "height": 718
        },
        "id": "K_hGl6QKVRWu",
        "outputId": "8c9fa459-084e-4df7-c130-904f313cb3cd"
      },
      "execution_count": 104,
      "outputs": [
        {
          "output_type": "display_data",
          "data": {
            "text/plain": [
              "<Figure size 1000x800 with 2 Axes>"
            ],
            "image/png": "[encoded data removed]"
          },
          "metadata": {}
        }
      ]
    },
    {
      "cell_type": "code",
      "source": [],
      "metadata": {
        "id": "uE7l_hRgVoab"
      },
      "execution_count": null,
      "outputs": []
    }
  ]
}